{
 "cells": [
  {
   "cell_type": "markdown",
   "metadata": {},
   "source": [
    "#Anime Planet // Vulpix // CS109 Final Project\n",
    "Tuongvan Le, Tiffany Lee, Kelwen Peng, Dylan Tan"
   ]
  },
  {
   "cell_type": "markdown",
   "metadata": {},
   "source": [
    "##Scraping Data\n",
    "###Reviews and Users"
   ]
  },
  {
   "cell_type": "code",
   "execution_count": 1,
   "metadata": {
    "collapsed": true
   },
   "outputs": [],
   "source": [
    "import numpy as np\n",
    "import scipy as sp\n",
    "import matplotlib as mpl\n",
    "import matplotlib.cm as cm\n",
    "import matplotlib.pyplot as plt\n",
    "import pandas as pd\n",
    "import time\n",
    "import re\n",
    "import string\n",
    "import json\n",
    "import pickle\n",
    "from collections import defaultdict\n",
    "\n",
    "pd.set_option('display.width', 500)\n",
    "pd.set_option('display.max_columns', 100)\n",
    "pd.set_option('display.notebook_repr_html', True)\n",
    "import seaborn as sns\n",
    "sns.set_style(\"whitegrid\")\n",
    "sns.set_context(\"poster\")\n",
    "\n",
    "from bs4 import BeautifulSoup\n",
    "# The \"requests\" library makes working with HTTP requests easier than the built-in urllib libraries.\n",
    "import requests\n",
    "from urllib2 import urlopen"
   ]
  },
  {
   "cell_type": "code",
   "execution_count": 1,
   "metadata": {
    "collapsed": false
   },
   "outputs": [
    {
     "ename": "IOError",
     "evalue": "[Errno 2] No such file or directory: '../data/anime_pages.p'",
     "output_type": "error",
     "traceback": [
      "\u001b[0;31m---------------------------------------------------------------------------\u001b[0m",
      "\u001b[0;31mIOError\u001b[0m                                   Traceback (most recent call last)",
      "\u001b[0;32m<ipython-input-1-211426942b39>\u001b[0m in \u001b[0;36m<module>\u001b[0;34m()\u001b[0m\n\u001b[0;32m----> 1\u001b[0;31m \u001b[0mtest1\u001b[0m \u001b[0;34m=\u001b[0m \u001b[0mopen\u001b[0m\u001b[0;34m(\u001b[0m\u001b[0;34m\"../data/anime_pages.p\"\u001b[0m\u001b[0;34m,\u001b[0m\u001b[0;34m'rb'\u001b[0m\u001b[0;34m)\u001b[0m\u001b[0;34m\u001b[0m\u001b[0m\n\u001b[0m\u001b[1;32m      2\u001b[0m \u001b[0manime\u001b[0m \u001b[0;34m=\u001b[0m \u001b[0mpickle\u001b[0m\u001b[0;34m.\u001b[0m\u001b[0mload\u001b[0m\u001b[0;34m(\u001b[0m\u001b[0mtest1\u001b[0m\u001b[0;34m)\u001b[0m\u001b[0;34m\u001b[0m\u001b[0m\n\u001b[1;32m      3\u001b[0m \u001b[0mtest1\u001b[0m\u001b[0;34m.\u001b[0m\u001b[0mclose\u001b[0m\u001b[0;34m(\u001b[0m\u001b[0;34m)\u001b[0m\u001b[0;34m\u001b[0m\u001b[0m\n",
      "\u001b[0;31mIOError\u001b[0m: [Errno 2] No such file or directory: '../data/anime_pages.p'"
     ]
    }
   ],
   "source": [
    "test1 = open(\"../data/anime_pages.p\",'rb') \n",
    "anime = pickle.load(test1)  \n",
    "test1.close()"
   ]
  },
  {
   "cell_type": "code",
   "execution_count": 42,
   "metadata": {
    "collapsed": false
   },
   "outputs": [],
   "source": [
    "root = 'http://www.anime-planet.com'\n",
    "\n",
    "all_anime = []\n",
    "for page in anime:\n",
    "    soup = BeautifulSoup(page.text, \"html.parser\")\n",
    "    animelist = soup.find('ul',attrs={\"class\": \"cardDeck pure-g cd-narrow\"}).find_all(\"li\")\n",
    "    for ani in animelist:\n",
    "        all_anime.append(root + ani.find('a').get('href'))"
   ]
  },
  {
   "cell_type": "code",
   "execution_count": 95,
   "metadata": {
    "collapsed": false
   },
   "outputs": [
    {
     "name": "stdout",
     "output_type": "stream",
     "text": [
      "0\n",
      "500\n",
      "1000\n",
      "1500\n",
      "2000\n",
      "2500\n",
      "3000\n",
      "3500\n",
      "4000\n",
      "4500\n",
      "5000\n",
      "5500\n",
      "6000\n",
      "6500\n",
      "7000\n",
      "CPU times: user 5min 47s, sys: 4min 43s, total: 10min 30s\n",
      "Wall time: 4h 3min 37s\n"
     ]
    }
   ],
   "source": [
    "%%time\n",
    "anime_reviews = defaultdict(list)\n",
    "stop = 0\n",
    "for i in xrange(len(all_anime)):\n",
    "    if i>=stop:\n",
    "        print i\n",
    "        stop+=500\n",
    "    review = requests.get(all_anime[i]+\"/reviews\")\n",
    "    soup1 = BeautifulSoup(review.text, \"html.parser\")\n",
    "    pages = soup1.find('section',attrs={'pure-g'})\n",
    "    if pages:\n",
    "        pages = pages.find('div',attrs='pure-1 md-4-5')\n",
    "    if pages:\n",
    "        pages = pages.find('div',attrs='pagination aligncenter')\n",
    "        if pages:\n",
    "            all_li = pages.ul.find_all('li')\n",
    "            maxpage = int(all_li[len(all_li)-2].a.contents[0])\n",
    "        else:\n",
    "            maxpage=1\n",
    "    else:\n",
    "        maxpage=1\n",
    "    for j in xrange(1,maxpage+1):\n",
    "        anime_reviews[all_anime[i].split('/')[-1]].append(requests.get(all_anime[i]+\"/reviews?page=\"+str(j)))\n",
    "        time.sleep(1)"
   ]
  },
  {
   "cell_type": "code",
   "execution_count": 168,
   "metadata": {
    "collapsed": false
   },
   "outputs": [],
   "source": [
    "#pickle.dump(anime_reviews, open(\"../data/anime_reviews1.p\", \"wb\"))\n",
    "\n",
    "test3 = open(\"../data/anime_reviews1.p\",'rb') \n",
    "anime_reviews = pickle.load(test3)  \n",
    "test3.close()"
   ]
  },
  {
   "cell_type": "code",
   "execution_count": 215,
   "metadata": {
    "collapsed": false
   },
   "outputs": [],
   "source": [
    "reviewsdict = {}\n",
    "for anime in anime_reviews.keys():\n",
    "    animedict = {anime:{}}\n",
    "    for a in range(len(anime_reviews[anime])):\n",
    "        soup = BeautifulSoup(anime_reviews[anime][a].text, \"html.parser\")\n",
    "        body = soup.find('div',attrs={\"class\": \"pure-1 md-4-5\"})\n",
    "        if body is not None:\n",
    "            sections = body.find_all('section', attrs={'class':'pure-g'})\n",
    "            names = [i.find('a',attrs={'itemprop':'author'}).contents[0] for i in sections if i.find('a',attrs={'itemprop':'author'}) is not None]\n",
    "            scores = [i.find_all('div',attrs={'class':'pure-1-5'}) for i in sections if i.find_all('div',attrs={'class':'pure-1-5'}) != []]\n",
    "            story = [i[0].contents[0] for i in scores]\n",
    "            animation = [i[1].contents[0] for i in scores]\n",
    "            sound = [i[2].contents[0] for i in scores]\n",
    "            characters = [i[3].contents[0] for i in scores]\n",
    "            overall = [i[4].contents[0] for i in scores]\n",
    "            reviews = [i.contents[1].string for i in body.find_all('section', attrs={'class':'userContent readMore'})]\n",
    "            anime_name = soup.find('h1',attrs={\"itemprop\": \"name\"}).contents*len(names)\n",
    "            temp = dict(zip(names,zip(story,animation,sound,characters,overall,reviews,anime_name)))\n",
    "            animedict[anime].update(temp)\n",
    "    reviewsdict.update(animedict)\n"
   ]
  },
  {
   "cell_type": "code",
   "execution_count": 222,
   "metadata": {
    "collapsed": false
   },
   "outputs": [],
   "source": [
    "with open('../data/all_reviews.json', 'w') as fp:\n",
    "      json.dump(reviewsdict, fp)\n",
    "\n",
    "with open('../data/all_reviews.json','r') as data_file:    \n",
    "    reviewsdict = json.load(data_file)"
   ]
  },
  {
   "cell_type": "code",
   "execution_count": 216,
   "metadata": {
    "collapsed": false
   },
   "outputs": [],
   "source": [
    "reviewlist = []\n",
    "for i in reviewsdict.keys():\n",
    "    reviewlist+=reviewsdict[i].keys()\n",
    "users = list(set(reviewlist))"
   ]
  },
  {
   "cell_type": "code",
   "execution_count": 217,
   "metadata": {
    "collapsed": false
   },
   "outputs": [
    {
     "data": {
      "text/plain": [
       "(4462, 17194)"
      ]
     },
     "execution_count": 217,
     "metadata": {},
     "output_type": "execute_result"
    }
   ],
   "source": [
    "len(users),len(reviewlist)"
   ]
  },
  {
   "cell_type": "code",
   "execution_count": 218,
   "metadata": {
    "collapsed": false
   },
   "outputs": [],
   "source": [
    "newlist = []\n",
    "\n",
    "for key in reviewsdict:\n",
    "    for user in reviewsdict[key]:\n",
    "        story = reviewsdict[key][user][0]\n",
    "        animation = reviewsdict[key][user][1]\n",
    "        sound = reviewsdict[key][user][2]\n",
    "        character = reviewsdict[key][user][3]\n",
    "        overall = reviewsdict[key][user][4]\n",
    "        reviews = reviewsdict[key][user][5]\n",
    "        anime_name = reviewsdict[key][user][6]\n",
    "        temp = {\"name\":user,'anime':key,'story':story,'animation':animation,'sound':sound,'character':character,'overall':overall,'reviews':reviews,'anime_name':anime_name}\n",
    "        newlist.append(temp)"
   ]
  },
  {
   "cell_type": "code",
   "execution_count": 221,
   "metadata": {
    "collapsed": false
   },
   "outputs": [
    {
     "data": {
      "text/plain": [
       "(17194, 9)"
      ]
     },
     "execution_count": 221,
     "metadata": {},
     "output_type": "execute_result"
    }
   ],
   "source": [
    "newdata = pd.DataFrame(newlist)\n",
    "newdata.shape"
   ]
  },
  {
   "cell_type": "code",
   "execution_count": 223,
   "metadata": {
    "collapsed": true
   },
   "outputs": [],
   "source": [
    "newdata.to_csv('../data/all_reviews.csv',sep='\\t',encoding='utf-8')"
   ]
  },
  {
   "cell_type": "code",
   "execution_count": 36,
   "metadata": {
    "collapsed": false
   },
   "outputs": [],
   "source": [
    "#newdata.loc[:,['anime','anime_name']].to_csv('../data/anime_name.csv',sep='\\t',encoding='utf-8')"
   ]
  },
  {
   "cell_type": "markdown",
   "metadata": {},
   "source": [
    "#### Getting User Profile"
   ]
  },
  {
   "cell_type": "code",
   "execution_count": 8,
   "metadata": {
    "collapsed": false
   },
   "outputs": [
    {
     "name": "stdout",
     "output_type": "stream",
     "text": [
      "CPU times: user 3min 17s, sys: 26.8 s, total: 3min 44s\n",
      "Wall time: 1h 46min 45s\n"
     ]
    }
   ],
   "source": [
    "%%time\n",
    "root = 'http://www.anime-planet.com/users/'\n",
    "user_profiles = {}\n",
    "for i in xrange(len(users)):\n",
    "    user = requests.get(root+users[i])\n",
    "    soup = BeautifulSoup(user.text, \"html.parser\")\n",
    "    user_profiles[users[i]]=soup\n",
    "    time.sleep(1)"
   ]
  },
  {
   "cell_type": "code",
   "execution_count": 91,
   "metadata": {
    "collapsed": false
   },
   "outputs": [],
   "source": [
    "each_user_info = {}\n",
    "\n",
    "for user in user_profiles.keys():\n",
    "    test = user_profiles[user]\n",
    "    user_info = {}\n",
    "\n",
    "    info = test.find('div',attrs={'class':'pure-u-3-5 pure-u-md-4-5'})\n",
    "    name = info.find('h2',attrs={'id':'profileName'}).find_all('a')[1].contents[0]\n",
    "\n",
    "    stats = info.find('ul',attrs={'class':'userStats'}).findAll('li')\n",
    "    place = \"\"\n",
    "    age_sex = \"\"\n",
    "    join = \"\"\n",
    "\n",
    "    # find place, age, sex if exist\n",
    "    for li in stats:\n",
    "        if li.findAll(attrs={\"class\" : \"fa fa-home\"}):\n",
    "            place = li.contents[1]\n",
    "        elif li.findAll(attrs={\"class\" : \"fa fa-calendar\"}):\n",
    "            join = li.contents[1]\n",
    "        elif li.findAll(attrs={\"class\" : \"fa fa-user\"}):\n",
    "            age_sex = li.contents[2].replace('\\n','')\n",
    "\n",
    "    each_user_info[name] = {\"place\":place,\"age_sex\":age_sex,\"join\":join}"
   ]
  },
  {
   "cell_type": "code",
   "execution_count": 2,
   "metadata": {
    "collapsed": false
   },
   "outputs": [],
   "source": [
    "# with open('../data/all_users.json', 'w') as fp:\n",
    "#        json.dump(each_user_info, fp)\n",
    "\n",
    "with open('../data/all_users.json','r') as data_file:    \n",
    "    each_user_info = json.load(data_file)"
   ]
  },
  {
   "cell_type": "code",
   "execution_count": 3,
   "metadata": {
    "collapsed": false
   },
   "outputs": [
    {
     "data": {
      "text/html": [
       "<div>\n",
       "<table border=\"1\" class=\"dataframe\">\n",
       "  <thead>\n",
       "    <tr style=\"text-align: right;\">\n",
       "      <th></th>\n",
       "      <th>age_sex</th>\n",
       "      <th>join</th>\n",
       "      <th>place</th>\n",
       "    </tr>\n",
       "  </thead>\n",
       "  <tbody>\n",
       "    <tr>\n",
       "      <th>00081</th>\n",
       "      <td>26</td>\n",
       "      <td>Joined Jan 16, 2012</td>\n",
       "      <td>Death Star</td>\n",
       "    </tr>\n",
       "    <tr>\n",
       "      <th>0Marcandre</th>\n",
       "      <td>20 / M</td>\n",
       "      <td>Joined Mar 31, 2013</td>\n",
       "      <td></td>\n",
       "    </tr>\n",
       "    <tr>\n",
       "      <th>0oDaano0</th>\n",
       "      <td>?</td>\n",
       "      <td>Joined Apr 9, 2013</td>\n",
       "      <td></td>\n",
       "    </tr>\n",
       "    <tr>\n",
       "      <th>0utl4w</th>\n",
       "      <td>?</td>\n",
       "      <td>Joined Mar 31, 2010</td>\n",
       "      <td>somewhere</td>\n",
       "    </tr>\n",
       "    <tr>\n",
       "      <th>11bowman</th>\n",
       "      <td>21 / M</td>\n",
       "      <td>Joined Jun 19, 2010</td>\n",
       "      <td>Amsterdam, Netherlands</td>\n",
       "    </tr>\n",
       "  </tbody>\n",
       "</table>\n",
       "</div>"
      ],
      "text/plain": [
       "            age_sex                 join                   place\n",
       "00081           26   Joined Jan 16, 2012              Death Star\n",
       "0Marcandre  20 / M   Joined Mar 31, 2013                        \n",
       "0oDaano0         ?    Joined Apr 9, 2013                        \n",
       "0utl4w           ?   Joined Mar 31, 2010               somewhere\n",
       "11bowman    21 / M   Joined Jun 19, 2010  Amsterdam, Netherlands"
      ]
     },
     "execution_count": 3,
     "metadata": {},
     "output_type": "execute_result"
    }
   ],
   "source": [
    "userdf = pd.DataFrame(each_user_info).T"
   ]
  },
  {
   "cell_type": "code",
   "execution_count": 4,
   "metadata": {
    "collapsed": true
   },
   "outputs": [],
   "source": [
    "userdf.to_csv('../data/all_users.csv',sep='\\t',encoding='utf-8')"
   ]
  },
  {
   "cell_type": "markdown",
   "metadata": {},
   "source": [
    "###Anime Data"
   ]
  },
  {
   "cell_type": "code",
   "execution_count": null,
   "metadata": {
    "collapsed": true
   },
   "outputs": [],
   "source": [
    "# import pip\n",
    "\n",
    "# def install(package):\n",
    "#    pip.main(['install', package])\n",
    "\n",
    "# install('python-mal')\n",
    "\n",
    "# import myanimelist.session\n",
    "# #username=\"teamvulpix\", password=\"2015harvardcs109\"\n",
    "# session = myanimelist.session.Session()\n",
    "# session.login()\n",
    "# bebop = session.anime(20)"
   ]
  },
  {
   "cell_type": "markdown",
   "metadata": {},
   "source": [
    "#### Scraping the search bar of www.anime-planet.com"
   ]
  },
  {
   "cell_type": "code",
   "execution_count": null,
   "metadata": {
    "collapsed": true
   },
   "outputs": [],
   "source": [
    "#48 animes per page with 152 pages = ~7296\n",
    "anime = []\n",
    "for i in xrange(1,153):\n",
    "    anime.append(requests.get('http://www.anime-planet.com/anime/all?sort=title&order=asc&page='+str(i)))\n",
    "    time.sleep(1)"
   ]
  },
  {
   "cell_type": "markdown",
   "metadata": {},
   "source": [
    "#### Finding all anime links"
   ]
  },
  {
   "cell_type": "code",
   "execution_count": null,
   "metadata": {
    "collapsed": true
   },
   "outputs": [],
   "source": [
    "root = 'http://www.anime-planet.com'\n",
    "\n",
    "all_anime = []\n",
    "for page in anime:\n",
    "    soup = BeautifulSoup(page.text, \"html.parser\")\n",
    "    animelist = soup.find('ul',attrs={\"class\": \"cardDeck pure-g cd-narrow\"}).find_all(\"li\")\n",
    "    for ani in animelist:\n",
    "        all_anime.append(root + ani.find('a').get('href'))"
   ]
  },
  {
   "cell_type": "markdown",
   "metadata": {},
   "source": [
    "#### Requesting each anime page information"
   ]
  },
  {
   "cell_type": "code",
   "execution_count": null,
   "metadata": {
    "collapsed": true
   },
   "outputs": [],
   "source": [
    "each_anime = []\n",
    "\n",
    "for i in xrange(len(all_anime)):\n",
    "    each_anime.append(requests.get(all_anime[i]))\n",
    "    time.sleep(1)"
   ]
  },
  {
   "cell_type": "markdown",
   "metadata": {},
   "source": [
    "####Getting info from each anime"
   ]
  },
  {
   "cell_type": "code",
   "execution_count": null,
   "metadata": {
    "collapsed": true
   },
   "outputs": [],
   "source": [
    "each_anime_info = {}\n",
    "\n",
    "for anim in each_anime:\n",
    "    anime_info = {}\n",
    "    soup1 = BeautifulSoup(anim.text, \"html.parser\")\n",
    "    name = soup1.find('h1',attrs={\"itemprop\": \"name\"}).contents[0]\n",
    "    altname = soup1.find('h2',attrs={\"class\": \"aka\"})\n",
    "\n",
    "    infos = soup1.find_all('div',attrs={\"class\": \"pure-u-1 pure-u-md-1-5\"})\n",
    "    atype = infos[0]\n",
    "    studio = infos[1].a\n",
    "    date = infos[2].li\n",
    "    date_pub = infos[2].find('span',attrs={'itemprop':'datePublished'})\n",
    "    rating = infos[3].div.span\n",
    "    rank = infos[4]\n",
    "    description = soup1.find('div',attrs={\"itemprop\": \"description\"})\n",
    "    \n",
    "    #get categories\n",
    "    categories_table = soup1.find('div',attrs={\"class\": \"categories\"})\n",
    "    if categories_table is not None:\n",
    "        anime_info['categories'] = [i.a.contents[0] for i in categories_table.ul]\n",
    "    \n",
    "    #get related media\n",
    "    related_table = soup1.find('table',attrs={\"class\": \"pure-table pure-table-striped noHeader\"})\n",
    "    if related_table is not None:\n",
    "        anime_info['related'] = [row.td.a.contents[0] for row in related_table.find_all('tr')]\n",
    "    \n",
    "    anime_info['name'] = name\n",
    "    if altname is not None:\n",
    "        anime_info['altname'] = altname.contents[0]\n",
    "    else:\n",
    "        anime_info['altname'] = ''\n",
    "    if atype is not None:\n",
    "        anime_info['atype'] = atype.contents[0]\n",
    "    else:\n",
    "        anime_info['atype'] = ''\n",
    "    if studio is not None:\n",
    "        anime_info['studio'] = studio.contents[0]\n",
    "    else:\n",
    "        anime_info['studio'] = ''\n",
    "    if date is not None:\n",
    "        anime_info['date'] = date.a.contents[0]\n",
    "    else:\n",
    "        anime_info['date'] = ''\n",
    "    if date_pub is not None:\n",
    "        anime_info['date_pub'] = date_pub.a.contents[0]\n",
    "    else:\n",
    "        anime_info['date'] = ''\n",
    "    if rating is not None:\n",
    "        anime_info['rating'] = rating.contents[0]\n",
    "    else:\n",
    "        anime_info['rating'] = ''\n",
    "    if rank is not None:\n",
    "        anime_info['rank'] = rank.contents[0]\n",
    "    else:\n",
    "        anime_info['rank'] = ''\n",
    "    if description is not None :\n",
    "        if description.p is not None:\n",
    "            anime_info['description'] = description.p.contents[0].string\n",
    "        else:\n",
    "                anime_info['description'] = ''\n",
    "    else:\n",
    "        anime_info['description'] = ''\n",
    "    \n",
    "    if name in each_anime_info.keys():\n",
    "        name+='_2'\n",
    "        \n",
    "    each_anime_info[name] = anime_info"
   ]
  },
  {
   "cell_type": "code",
   "execution_count": null,
   "metadata": {
    "collapsed": true
   },
   "outputs": [],
   "source": [
    "#  with open('each_anime_info.json', 'w') as fp:\n",
    "#      json.dump(each_anime_info, fp)\n",
    "\n",
    "with open('../data/each_anime_info.json','r') as data_file:    \n",
    "    each_anime_info = json.load(data_file)\n",
    "    \n",
    "anime_info = pd.DataFrame(each_anime_info).T\n",
    "anime_info.head()"
   ]
  },
  {
   "cell_type": "code",
   "execution_count": null,
   "metadata": {
    "collapsed": true
   },
   "outputs": [],
   "source": [
    "#anime_info.to_csv('../data/anime_info.csv',sep='\\t',encoding='utf-8')\n",
    "anime_info = pd.read_csv('../data/anime_info.csv',sep='\\t',index_col=0)\n",
    "anime_info.head()"
   ]
  },
  {
   "cell_type": "markdown",
   "metadata": {},
   "source": [
    "#Data Cleaning"
   ]
  },
  {
   "cell_type": "code",
   "execution_count": 2,
   "metadata": {
    "collapsed": false
   },
   "outputs": [],
   "source": [
    "reviews = pd.read_csv('../data/all_reviews.csv',sep='\\t',encoding='utf-8', index_col=0)\n",
    "users = pd.read_csv('../data/all_users.csv',sep='\\t',encoding='utf-8', index_col=0)"
   ]
  },
  {
   "cell_type": "markdown",
   "metadata": {},
   "source": [
    "## Reviews"
   ]
  },
  {
   "cell_type": "code",
   "execution_count": 3,
   "metadata": {
    "collapsed": true
   },
   "outputs": [],
   "source": [
    "# removing extraneous spaces/chars\n",
    "reviews.animation = reviews.animation.str.strip().str[0:-3].convert_objects(convert_numeric=True)\n",
    "reviews.character = reviews.character.str.strip().str[0:-3].convert_objects(convert_numeric=True)\n",
    "reviews.overall = reviews.overall.str.strip().str[0:-3].convert_objects(convert_numeric=True)\n",
    "reviews.sound = reviews.sound.str.strip().str[0:-3].convert_objects(convert_numeric=True)\n",
    "reviews.story = reviews.story.str.strip().str[0:-3].convert_objects(convert_numeric=True)"
   ]
  },
  {
   "cell_type": "markdown",
   "metadata": {},
   "source": [
    "## Users"
   ]
  },
  {
   "cell_type": "code",
   "execution_count": 4,
   "metadata": {
    "collapsed": false
   },
   "outputs": [
    {
     "name": "stdout",
     "output_type": "stream",
     "text": [
      "(2250, 5)\n"
     ]
    },
    {
     "data": {
      "text/html": [
       "<div>\n",
       "<table border=\"1\" class=\"dataframe\">\n",
       "  <thead>\n",
       "    <tr style=\"text-align: right;\">\n",
       "      <th></th>\n",
       "      <th>age_sex</th>\n",
       "      <th>join</th>\n",
       "      <th>place</th>\n",
       "      <th>age</th>\n",
       "      <th>sex</th>\n",
       "    </tr>\n",
       "  </thead>\n",
       "  <tbody>\n",
       "    <tr>\n",
       "      <th>0Marcandre</th>\n",
       "      <td>20 / M</td>\n",
       "      <td>Joined Mar 31, 2013</td>\n",
       "      <td>NaN</td>\n",
       "      <td>20</td>\n",
       "      <td>M</td>\n",
       "    </tr>\n",
       "    <tr>\n",
       "      <th>11bowman</th>\n",
       "      <td>21 / M</td>\n",
       "      <td>Joined Jun 19, 2010</td>\n",
       "      <td>Amsterdam, Netherlands</td>\n",
       "      <td>21</td>\n",
       "      <td>M</td>\n",
       "    </tr>\n",
       "    <tr>\n",
       "      <th>11sam1234</th>\n",
       "      <td>21 / F</td>\n",
       "      <td>Joined Nov 20, 2008</td>\n",
       "      <td>alto</td>\n",
       "      <td>21</td>\n",
       "      <td>F</td>\n",
       "    </tr>\n",
       "    <tr>\n",
       "      <th>29ActiveDownloads</th>\n",
       "      <td>20 / M</td>\n",
       "      <td>Joined Apr 26, 2011</td>\n",
       "      <td>NaN</td>\n",
       "      <td>20</td>\n",
       "      <td>M</td>\n",
       "    </tr>\n",
       "    <tr>\n",
       "      <th>2minion</th>\n",
       "      <td>20 / F</td>\n",
       "      <td>Joined Aug 2, 2013</td>\n",
       "      <td>NaN</td>\n",
       "      <td>20</td>\n",
       "      <td>F</td>\n",
       "    </tr>\n",
       "  </tbody>\n",
       "</table>\n",
       "</div>"
      ],
      "text/plain": [
       "                   age_sex                 join                   place  age sex\n",
       "0Marcandre         20 / M   Joined Mar 31, 2013                     NaN  20    M\n",
       "11bowman           21 / M   Joined Jun 19, 2010  Amsterdam, Netherlands  21    M\n",
       "11sam1234          21 / F   Joined Nov 20, 2008                    alto  21    F\n",
       "29ActiveDownloads  20 / M   Joined Apr 26, 2011                     NaN  20    M\n",
       "2minion            20 / F    Joined Aug 2, 2013                     NaN  20    F"
      ]
     },
     "execution_count": 4,
     "metadata": {},
     "output_type": "execute_result"
    }
   ],
   "source": [
    "for i in users.index:\n",
    "    temp = users.ix[i,'age_sex'].strip().split('/')\n",
    "    age = '?'\n",
    "    sex = '?'\n",
    "    \n",
    "    # check if user has provided age/sex\n",
    "    if len(temp)==2:\n",
    "        age = temp[0]\n",
    "        sex = temp[1]  \n",
    "    elif temp[0].isdigit():\n",
    "        age = temp[0]\n",
    "    else:\n",
    "        sex = temp[0]\n",
    "        \n",
    "    users.ix[i,'age']=age\n",
    "    users.ix[i,'sex']=sex\n",
    "    \n",
    "# remove those without age/sex\n",
    "subusers = users.loc[(users.age!='? ')&(users.sex!='?')]\n",
    "print subusers.shape\n",
    "subusers.head()"
   ]
  },
  {
   "cell_type": "markdown",
   "metadata": {},
   "source": [
    "### Combining user and review information"
   ]
  },
  {
   "cell_type": "code",
   "execution_count": 5,
   "metadata": {
    "collapsed": false
   },
   "outputs": [
    {
     "name": "stderr",
     "output_type": "stream",
     "text": [
      "/Users/tiffanylee/anaconda/lib/python2.7/site-packages/pandas/core/indexing.py:249: SettingWithCopyWarning: \n",
      "A value is trying to be set on a copy of a slice from a DataFrame.\n",
      "Try using .loc[row_indexer,col_indexer] = value instead\n",
      "\n",
      "See the the caveats in the documentation: http://pandas.pydata.org/pandas-docs/stable/indexing.html#indexing-view-versus-copy\n",
      "  self.obj[key] = _infer_fill_value(value)\n",
      "/Users/tiffanylee/anaconda/lib/python2.7/site-packages/pandas/core/indexing.py:415: SettingWithCopyWarning: \n",
      "A value is trying to be set on a copy of a slice from a DataFrame.\n",
      "Try using .loc[row_indexer,col_indexer] = value instead\n",
      "\n",
      "See the the caveats in the documentation: http://pandas.pydata.org/pandas-docs/stable/indexing.html#indexing-view-versus-copy\n",
      "  self.obj[item] = s\n"
     ]
    },
    {
     "data": {
      "text/html": [
       "<div>\n",
       "<table border=\"1\" class=\"dataframe\">\n",
       "  <thead>\n",
       "    <tr style=\"text-align: right;\">\n",
       "      <th></th>\n",
       "      <th>animation</th>\n",
       "      <th>anime</th>\n",
       "      <th>anime_name</th>\n",
       "      <th>character</th>\n",
       "      <th>name</th>\n",
       "      <th>overall</th>\n",
       "      <th>reviews</th>\n",
       "      <th>sound</th>\n",
       "      <th>story</th>\n",
       "      <th>age</th>\n",
       "      <th>sex</th>\n",
       "    </tr>\n",
       "  </thead>\n",
       "  <tbody>\n",
       "    <tr>\n",
       "      <th>0</th>\n",
       "      <td>10</td>\n",
       "      <td>to-aru-majutsu-no-index-10th-anniversary-pv</td>\n",
       "      <td>To Aru Majutsu no Index 10th Anniversary PV</td>\n",
       "      <td>10</td>\n",
       "      <td>SogiitaGunhaGUTS</td>\n",
       "      <td>10.0</td>\n",
       "      <td>Well it's a short animation to celebrate Kamac...</td>\n",
       "      <td>NaN</td>\n",
       "      <td>NaN</td>\n",
       "      <td>15</td>\n",
       "      <td>M</td>\n",
       "    </tr>\n",
       "    <tr>\n",
       "      <th>1</th>\n",
       "      <td>5</td>\n",
       "      <td>dokkoida</td>\n",
       "      <td>Dokkoida?!</td>\n",
       "      <td>6</td>\n",
       "      <td>angelsreviews</td>\n",
       "      <td>5.0</td>\n",
       "      <td>NaN</td>\n",
       "      <td>5</td>\n",
       "      <td>8</td>\n",
       "      <td>26</td>\n",
       "      <td>F</td>\n",
       "    </tr>\n",
       "    <tr>\n",
       "      <th>2</th>\n",
       "      <td>9</td>\n",
       "      <td>inazuma-eleven</td>\n",
       "      <td>Inazuma Eleven</td>\n",
       "      <td>9</td>\n",
       "      <td>xxjacobxx3</td>\n",
       "      <td>9.0</td>\n",
       "      <td>first of all: I agree with ﻿﻿﻿﻿luminex's revie...</td>\n",
       "      <td>9</td>\n",
       "      <td>9</td>\n",
       "      <td>25</td>\n",
       "      <td>M</td>\n",
       "    </tr>\n",
       "    <tr>\n",
       "      <th>4</th>\n",
       "      <td>8</td>\n",
       "      <td>brigadoon-marin-to-melan</td>\n",
       "      <td>Brigadoon Marin to Melan</td>\n",
       "      <td>8</td>\n",
       "      <td>roriconfan</td>\n",
       "      <td>8.0</td>\n",
       "      <td>NaN</td>\n",
       "      <td>9</td>\n",
       "      <td>8</td>\n",
       "      <td>34</td>\n",
       "      <td>M</td>\n",
       "    </tr>\n",
       "    <tr>\n",
       "      <th>5</th>\n",
       "      <td>7</td>\n",
       "      <td>brigadoon-marin-to-melan</td>\n",
       "      <td>Brigadoon Marin to Melan</td>\n",
       "      <td>9</td>\n",
       "      <td>KiraRin</td>\n",
       "      <td>8.5</td>\n",
       "      <td>NaN</td>\n",
       "      <td>7</td>\n",
       "      <td>8</td>\n",
       "      <td>33</td>\n",
       "      <td>F</td>\n",
       "    </tr>\n",
       "  </tbody>\n",
       "</table>\n",
       "</div>"
      ],
      "text/plain": [
       "   animation                                        anime                                   anime_name  character              name  overall                                            reviews  sound  story  age sex\n",
       "0         10  to-aru-majutsu-no-index-10th-anniversary-pv  To Aru Majutsu no Index 10th Anniversary PV         10  SogiitaGunhaGUTS     10.0  Well it's a short animation to celebrate Kamac...    NaN    NaN   15   M\n",
       "1          5                                     dokkoida                                   Dokkoida?!          6     angelsreviews      5.0                                                NaN      5      8   26   F\n",
       "2          9                               inazuma-eleven                               Inazuma Eleven          9        xxjacobxx3      9.0  first of all: I agree with ﻿﻿﻿﻿luminex's revie...      9      9   25   M\n",
       "4          8                     brigadoon-marin-to-melan                     Brigadoon Marin to Melan          8        roriconfan      8.0                                                NaN      9      8   34   M\n",
       "5          7                     brigadoon-marin-to-melan                     Brigadoon Marin to Melan          9           KiraRin      8.5                                                NaN      7      8   33   F"
      ]
     },
     "execution_count": 5,
     "metadata": {},
     "output_type": "execute_result"
    }
   ],
   "source": [
    "# remove reviews whose user is not in user database\n",
    "mask = [i in subusers.index for i in reviews.name]\n",
    "subreviews = reviews.loc[mask]\n",
    "\n",
    "# match age and sex info to reviews\n",
    "age = []\n",
    "sex = []\n",
    "\n",
    "for i in subreviews.index:\n",
    "    age.append(int(subusers.ix[subreviews.ix[i,'name'],'age']))\n",
    "    sex.append(subusers.ix[subreviews.ix[i,'name'],'sex'])\n",
    "    \n",
    "subreviews.loc[:,'age']=age\n",
    "subreviews.loc[:,'sex']=sex\n",
    "\n",
    "subreviews.head()"
   ]
  },
  {
   "cell_type": "code",
   "execution_count": 6,
   "metadata": {
    "collapsed": false
   },
   "outputs": [
    {
     "data": {
      "text/html": [
       "<div>\n",
       "<table border=\"1\" class=\"dataframe\">\n",
       "  <thead>\n",
       "    <tr style=\"text-align: right;\">\n",
       "      <th></th>\n",
       "      <th>animation</th>\n",
       "      <th>anime</th>\n",
       "      <th>anime_name</th>\n",
       "      <th>character</th>\n",
       "      <th>name</th>\n",
       "      <th>overall</th>\n",
       "      <th>reviews</th>\n",
       "      <th>sound</th>\n",
       "      <th>story</th>\n",
       "      <th>age</th>\n",
       "      <th>sex</th>\n",
       "    </tr>\n",
       "  </thead>\n",
       "  <tbody>\n",
       "    <tr>\n",
       "      <th>0</th>\n",
       "      <td>10</td>\n",
       "      <td>to-aru-majutsu-no-index-10th-anniversary-pv</td>\n",
       "      <td>To Aru Majutsu no Index 10th Anniversary PV</td>\n",
       "      <td>10</td>\n",
       "      <td>SogiitaGunhaGUTS</td>\n",
       "      <td>10</td>\n",
       "      <td>Well it's a short animation to celebrate Kamac...</td>\n",
       "      <td>NaN</td>\n",
       "      <td>NaN</td>\n",
       "      <td>15.00000</td>\n",
       "      <td>M</td>\n",
       "    </tr>\n",
       "    <tr>\n",
       "      <th>1</th>\n",
       "      <td>5</td>\n",
       "      <td>dokkoida</td>\n",
       "      <td>Dokkoida?!</td>\n",
       "      <td>6</td>\n",
       "      <td>angelsreviews</td>\n",
       "      <td>5</td>\n",
       "      <td>NaN</td>\n",
       "      <td>5</td>\n",
       "      <td>8</td>\n",
       "      <td>26.00000</td>\n",
       "      <td>F</td>\n",
       "    </tr>\n",
       "    <tr>\n",
       "      <th>2</th>\n",
       "      <td>9</td>\n",
       "      <td>inazuma-eleven</td>\n",
       "      <td>Inazuma Eleven</td>\n",
       "      <td>9</td>\n",
       "      <td>xxjacobxx3</td>\n",
       "      <td>9</td>\n",
       "      <td>first of all: I agree with ﻿﻿﻿﻿luminex's revie...</td>\n",
       "      <td>9</td>\n",
       "      <td>9</td>\n",
       "      <td>25.00000</td>\n",
       "      <td>M</td>\n",
       "    </tr>\n",
       "    <tr>\n",
       "      <th>3</th>\n",
       "      <td>8</td>\n",
       "      <td>inazuma-eleven</td>\n",
       "      <td>Inazuma Eleven</td>\n",
       "      <td>6</td>\n",
       "      <td>Lumineux</td>\n",
       "      <td>7</td>\n",
       "      <td>Story: 6</td>\n",
       "      <td>8</td>\n",
       "      <td>6</td>\n",
       "      <td>25.23511</td>\n",
       "      <td>F</td>\n",
       "    </tr>\n",
       "    <tr>\n",
       "      <th>4</th>\n",
       "      <td>8</td>\n",
       "      <td>brigadoon-marin-to-melan</td>\n",
       "      <td>Brigadoon Marin to Melan</td>\n",
       "      <td>8</td>\n",
       "      <td>roriconfan</td>\n",
       "      <td>8</td>\n",
       "      <td>NaN</td>\n",
       "      <td>9</td>\n",
       "      <td>8</td>\n",
       "      <td>34.00000</td>\n",
       "      <td>M</td>\n",
       "    </tr>\n",
       "  </tbody>\n",
       "</table>\n",
       "</div>"
      ],
      "text/plain": [
       "   animation                                        anime                                   anime_name  character              name  overall                                            reviews  sound  story       age sex\n",
       "0         10  to-aru-majutsu-no-index-10th-anniversary-pv  To Aru Majutsu no Index 10th Anniversary PV         10  SogiitaGunhaGUTS       10  Well it's a short animation to celebrate Kamac...    NaN    NaN  15.00000   M\n",
       "1          5                                     dokkoida                                   Dokkoida?!          6     angelsreviews        5                                                NaN      5      8  26.00000   F\n",
       "2          9                               inazuma-eleven                               Inazuma Eleven          9        xxjacobxx3        9  first of all: I agree with ﻿﻿﻿﻿luminex's revie...      9      9  25.00000   M\n",
       "3          8                               inazuma-eleven                               Inazuma Eleven          6          Lumineux        7                                           Story: 6      8      6  25.23511   F\n",
       "4          8                     brigadoon-marin-to-melan                     Brigadoon Marin to Melan          8        roriconfan        8                                                NaN      9      8  34.00000   M"
      ]
     },
     "execution_count": 6,
     "metadata": {},
     "output_type": "execute_result"
    }
   ],
   "source": [
    "# replace missing information with random sex and average age\n",
    "mean_age = subreviews.age.mean()\n",
    "\n",
    "age = []\n",
    "sex = []\n",
    "\n",
    "final = reviews.copy()\n",
    "\n",
    "for i in final.index:\n",
    "    name = final.ix[i,'name']\n",
    "    if name in subusers.index:\n",
    "        age.append(int(subusers.ix[name,'age']))\n",
    "        sex.append(subusers.ix[name,'sex'].strip())\n",
    "    else:\n",
    "        age.append(mean_age)\n",
    "        ran = np.random.random_integers(0,high=1)\n",
    "        if ran==1:\n",
    "            sex.append('M')\n",
    "        else:\n",
    "            sex.append('F')\n",
    "        \n",
    "    \n",
    "final.loc[:,'age']=age\n",
    "final.loc[:,'sex']=sex\n",
    "\n",
    "final.head()"
   ]
  },
  {
   "cell_type": "code",
   "execution_count": 7,
   "metadata": {
    "collapsed": true
   },
   "outputs": [],
   "source": [
    "for i,val in enumerate(final.anime_name):\n",
    "    if val == 'Beyblade: G Revolution':\n",
    "        final.ix[i,'anime_name']='Beyblade G Revolution'\n",
    "    if val == 'Beyblade: V-Force':\n",
    "        final.ix[i,'anime_name']='Beyblade V-Force'\n",
    "    if val == 'Beyblade: The Movie':\n",
    "        final.ix[i,'anime_name']='Beyblade - The Movie'\n",
    "        \n",
    "# reordering columns\n",
    "final = final[['anime', 'anime_name', 'name', 'age', 'sex', 'reviews', 'overall', 'animation', 'character', 'sound', 'story']]"
   ]
  },
  {
   "cell_type": "markdown",
   "metadata": {},
   "source": [
    "####Adding category indicators"
   ]
  },
  {
   "cell_type": "code",
   "execution_count": 8,
   "metadata": {
    "collapsed": false
   },
   "outputs": [
    {
     "data": {
      "text/html": [
       "<div>\n",
       "<table border=\"1\" class=\"dataframe\">\n",
       "  <thead>\n",
       "    <tr style=\"text-align: right;\">\n",
       "      <th></th>\n",
       "      <th>altname</th>\n",
       "      <th>atype</th>\n",
       "      <th>categories</th>\n",
       "      <th>date</th>\n",
       "      <th>date_pub</th>\n",
       "      <th>description</th>\n",
       "      <th>name</th>\n",
       "      <th>rank</th>\n",
       "      <th>rating</th>\n",
       "      <th>related</th>\n",
       "      <th>studio</th>\n",
       "    </tr>\n",
       "  </thead>\n",
       "  <tbody>\n",
       "    <tr>\n",
       "      <th>(Making of) Evangelion: Another Impact</th>\n",
       "      <td>NaN</td>\n",
       "      <td>\\n        Web (1 ep x 6 min)</td>\n",
       "      <td>[Sci Fi, CG Animation, Japan Animator's Exhibi...</td>\n",
       "      <td>NaN</td>\n",
       "      <td>2015</td>\n",
       "      <td>This episode is a making film of #12 \"evangeli...</td>\n",
       "      <td>(Making of) Evangelion: Another Impact</td>\n",
       "      <td>\\n       Rank #5,996</td>\n",
       "      <td>1.743 of 5 from 153 votes</td>\n",
       "      <td>[Neon Genesis Evangelion, Neon Genesis Evangel...</td>\n",
       "      <td>Studio Khara</td>\n",
       "    </tr>\n",
       "    <tr>\n",
       "      <th>+A-Channel</th>\n",
       "      <td>NaN</td>\n",
       "      <td>\\nDVD Special (11 eps x 2 min)</td>\n",
       "      <td>[Comedy, Slice of Life, Based on a Manga]</td>\n",
       "      <td>NaN</td>\n",
       "      <td>2011</td>\n",
       "      <td>There are many untold stories in the lives of ...</td>\n",
       "      <td>+A-Channel</td>\n",
       "      <td>\\n       Rank #2,398</td>\n",
       "      <td>3.334 of 5 from 1,192 votes</td>\n",
       "      <td>[A-Channel, A-Channel + smile]</td>\n",
       "      <td>Studio Gokumi</td>\n",
       "    </tr>\n",
       "    <tr>\n",
       "      <th>.hack//G.U. Returner</th>\n",
       "      <td>NaN</td>\n",
       "      <td>\\nOVA (1 ep)</td>\n",
       "      <td>[MMORPG, RPG, Virtual Reality]</td>\n",
       "      <td>NaN</td>\n",
       "      <td>2007</td>\n",
       "      <td>\"There is something I wish to entrust to you; ...</td>\n",
       "      <td>.hack//G.U. Returner</td>\n",
       "      <td>\\n       Rank #2,504</td>\n",
       "      <td>3.291 of 5 from 2,021 votes</td>\n",
       "      <td>[.hack//SIGN, .hack//LIMINALITY, .hack//Legend...</td>\n",
       "      <td>NaN</td>\n",
       "    </tr>\n",
       "    <tr>\n",
       "      <th>.hack//G.U. Trilogy</th>\n",
       "      <td>NaN</td>\n",
       "      <td>\\nMovie (1 ep x 93 min)</td>\n",
       "      <td>[CG Animation, MMORPG, RPG, Virtual Reality]</td>\n",
       "      <td>NaN</td>\n",
       "      <td>2008</td>\n",
       "      <td>The World is an ordinary online game – or at l...</td>\n",
       "      <td>.hack//G.U. Trilogy</td>\n",
       "      <td>\\n       Rank #1,576</td>\n",
       "      <td>3.671 of 5 from 2,814 votes</td>\n",
       "      <td>[.hack//SIGN, .hack//LIMINALITY, .hack//Legend...</td>\n",
       "      <td>NaN</td>\n",
       "    </tr>\n",
       "    <tr>\n",
       "      <th>.hack//G.U. Trilogy Parody</th>\n",
       "      <td>NaN</td>\n",
       "      <td>\\nDVD Special (1 ep x 6 min)</td>\n",
       "      <td>[Comedy, MMORPG, RPG, Virtual Reality]</td>\n",
       "      <td>NaN</td>\n",
       "      <td>2008</td>\n",
       "      <td>NaN</td>\n",
       "      <td>.hack//G.U. Trilogy Parody</td>\n",
       "      <td>\\n       Rank #3,993</td>\n",
       "      <td>2.691 of 5 from 714 votes</td>\n",
       "      <td>[.hack//SIGN, .hack//LIMINALITY, .hack//Legend...</td>\n",
       "      <td>NaN</td>\n",
       "    </tr>\n",
       "  </tbody>\n",
       "</table>\n",
       "</div>"
      ],
      "text/plain": [
       "                                       altname                             atype                                         categories date  date_pub                                        description                                    name                       rank                       rating                                            related         studio\n",
       "(Making of) Evangelion: Another Impact     NaN  \\n        Web (1 ep x 6 min)      [Sci Fi, CG Animation, Japan Animator's Exhibi...  NaN      2015  This episode is a making film of #12 \"evangeli...  (Making of) Evangelion: Another Impact  \\n       Rank #5,996         1.743 of 5 from 153 votes  [Neon Genesis Evangelion, Neon Genesis Evangel...   Studio Khara\n",
       "+A-Channel                                 NaN   \\nDVD Special (11 eps x 2 min)           [Comedy, Slice of Life, Based on a Manga]  NaN      2011  There are many untold stories in the lives of ...                              +A-Channel  \\n       Rank #2,398       3.334 of 5 from 1,192 votes                     [A-Channel, A-Channel + smile]  Studio Gokumi\n",
       ".hack//G.U. Returner                       NaN                     \\nOVA (1 ep)                      [MMORPG, RPG, Virtual Reality]  NaN      2007  \"There is something I wish to entrust to you; ...                    .hack//G.U. Returner  \\n       Rank #2,504       3.291 of 5 from 2,021 votes  [.hack//SIGN, .hack//LIMINALITY, .hack//Legend...            NaN\n",
       ".hack//G.U. Trilogy                        NaN          \\nMovie (1 ep x 93 min)        [CG Animation, MMORPG, RPG, Virtual Reality]  NaN      2008  The World is an ordinary online game – or at l...                     .hack//G.U. Trilogy  \\n       Rank #1,576       3.671 of 5 from 2,814 votes  [.hack//SIGN, .hack//LIMINALITY, .hack//Legend...            NaN\n",
       ".hack//G.U. Trilogy Parody                 NaN     \\nDVD Special (1 ep x 6 min)              [Comedy, MMORPG, RPG, Virtual Reality]  NaN      2008                                                NaN              .hack//G.U. Trilogy Parody  \\n       Rank #3,993         2.691 of 5 from 714 votes  [.hack//SIGN, .hack//LIMINALITY, .hack//Legend...            NaN"
      ]
     },
     "execution_count": 8,
     "metadata": {},
     "output_type": "execute_result"
    }
   ],
   "source": [
    "data=pd.read_csv(\"../data/anime_info.csv\",sep='\\t', index_col=0)\n",
    "data.head()"
   ]
  },
  {
   "cell_type": "code",
   "execution_count": 9,
   "metadata": {
    "collapsed": false
   },
   "outputs": [
    {
     "ename": "UnicodeDecodeError",
     "evalue": "'ascii' codec can't decode byte 0xef in position 16: ordinal not in range(128)",
     "output_type": "error",
     "traceback": [
      "\u001b[0;31m---------------------------------------------------------------------------\u001b[0m",
      "\u001b[0;31mUnicodeDecodeError\u001b[0m                        Traceback (most recent call last)",
      "\u001b[0;32m<ipython-input-9-44f6cf9bb7e8>\u001b[0m in \u001b[0;36m<module>\u001b[0;34m()\u001b[0m\n\u001b[1;32m      1\u001b[0m \u001b[0mnames\u001b[0m \u001b[0;34m=\u001b[0m \u001b[0;34m[\u001b[0m\u001b[0;34m]\u001b[0m\u001b[0;34m\u001b[0m\u001b[0m\n\u001b[1;32m      2\u001b[0m \u001b[0;32mfor\u001b[0m \u001b[0mi\u001b[0m \u001b[0;32min\u001b[0m \u001b[0mdata\u001b[0m\u001b[0;34m.\u001b[0m\u001b[0mindex\u001b[0m\u001b[0;34m:\u001b[0m\u001b[0;34m\u001b[0m\u001b[0m\n\u001b[0;32m----> 3\u001b[0;31m     \u001b[0mnames\u001b[0m\u001b[0;34m.\u001b[0m\u001b[0mappend\u001b[0m\u001b[0;34m(\u001b[0m\u001b[0mi\u001b[0m\u001b[0;34m.\u001b[0m\u001b[0mencode\u001b[0m\u001b[0;34m(\u001b[0m\u001b[0;34m'utf-8'\u001b[0m\u001b[0;34m,\u001b[0m \u001b[0;34m'ignore'\u001b[0m\u001b[0;34m)\u001b[0m\u001b[0;34m)\u001b[0m\u001b[0;34m\u001b[0m\u001b[0m\n\u001b[0m\u001b[1;32m      4\u001b[0m \u001b[0mdata\u001b[0m\u001b[0;34m.\u001b[0m\u001b[0mindex\u001b[0m\u001b[0;34m=\u001b[0m\u001b[0mnames\u001b[0m\u001b[0;34m\u001b[0m\u001b[0m\n\u001b[1;32m      5\u001b[0m \u001b[0;34m\u001b[0m\u001b[0m\n",
      "\u001b[0;31mUnicodeDecodeError\u001b[0m: 'ascii' codec can't decode byte 0xef in position 16: ordinal not in range(128)"
     ]
    }
   ],
   "source": [
    "names = []\n",
    "for i in data.index:\n",
    "    names.append(i.encode('ascii', 'ignore'))\n",
    "data.index=names\n",
    "\n",
    "# checking how many unique categories\n",
    "genres = data.categories.tolist()\n",
    "\n",
    "temp = []\n",
    "for i in genres:\n",
    "    if type(i)==str:\n",
    "        temp+=i.replace('[','').replace(']','').replace(' ','').split(',')\n",
    "uniq_genres = list(set(temp))\n",
    "len(uniq_genres)"
   ]
  },
  {
   "cell_type": "code",
   "execution_count": 15,
   "metadata": {
    "collapsed": true
   },
   "outputs": [],
   "source": []
  },
  {
   "cell_type": "code",
   "execution_count": null,
   "metadata": {
    "collapsed": true
   },
   "outputs": [],
   "source": []
  }
 ],
 "metadata": {
  "kernelspec": {
   "display_name": "Python 2",
   "language": "python",
   "name": "python2"
  },
  "language_info": {
   "codemirror_mode": {
    "name": "ipython",
    "version": 2
   },
   "file_extension": ".py",
   "mimetype": "text/x-python",
   "name": "python",
   "nbconvert_exporter": "python",
   "pygments_lexer": "ipython2",
   "version": "2.7.10"
  }
 },
 "nbformat": 4,
 "nbformat_minor": 0
}

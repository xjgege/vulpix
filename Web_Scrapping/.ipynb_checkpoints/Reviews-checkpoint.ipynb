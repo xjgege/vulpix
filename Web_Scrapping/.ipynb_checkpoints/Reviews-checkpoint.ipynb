{
 "cells": [
  {
   "cell_type": "code",
   "execution_count": 1,
   "metadata": {
    "collapsed": true
   },
   "outputs": [],
   "source": [
    "import numpy as np\n",
    "import scipy as sp\n",
    "import matplotlib as mpl\n",
    "import matplotlib.cm as cm\n",
    "import matplotlib.pyplot as plt\n",
    "import pandas as pd\n",
    "import time\n",
    "import re\n",
    "import string\n",
    "import json\n",
    "import pickle\n",
    "from collections import defaultdict\n",
    "\n",
    "pd.set_option('display.width', 500)\n",
    "pd.set_option('display.max_columns', 100)\n",
    "pd.set_option('display.notebook_repr_html', True)\n",
    "import seaborn as sns\n",
    "sns.set_style(\"whitegrid\")\n",
    "sns.set_context(\"poster\")\n",
    "\n",
    "from bs4 import BeautifulSoup\n",
    "# The \"requests\" library makes working with HTTP requests easier\n",
    "# than the built-in urllib libraries.\n",
    "import requests\n",
    "from urllib2 import urlopen"
   ]
  },
  {
   "cell_type": "code",
   "execution_count": 9,
   "metadata": {
    "collapsed": true
   },
   "outputs": [],
   "source": [
    "test1 = open(\"anime_pages.p\",'rb') \n",
    "anime = pickle.load(test1)  \n",
    "test1.close()"
   ]
  },
  {
   "cell_type": "code",
   "execution_count": 11,
   "metadata": {
    "collapsed": false
   },
   "outputs": [],
   "source": [
    "root = 'http://www.anime-planet.com'\n",
    "\n",
    "all_anime = []\n",
    "for page in anime:\n",
    "    soup = BeautifulSoup(page.text, \"html.parser\")\n",
    "    animelist = soup.find('ul',attrs={\"class\": \"cardDeck pure-g cd-narrow\"}).find_all(\"li\")\n",
    "    for ani in animelist:\n",
    "        all_anime.append(root + ani.find('a').get('href'))"
   ]
  },
  {
   "cell_type": "code",
   "execution_count": 112,
   "metadata": {
    "collapsed": false
   },
   "outputs": [
    {
     "name": "stdout",
     "output_type": "stream",
     "text": [
      "CPU times: user 3min 32s, sys: 21.2 s, total: 3min 54s\n",
      "Wall time: 2h 44min 30s\n"
     ]
    }
   ],
   "source": [
    "%%time\n",
    "anime_reviews1 = defaultdict(list)\n",
    "for i in xrange(len(all_anime)):\n",
    "    review = requests.get(all_anime[i]+\"/reviews\")\n",
    "    soup1 = BeautifulSoup(review.text, \"html.parser\")\n",
    "    pages = soup1.find('section',attrs={'pure-g'}).find('div',attrs='pure-u-1 pure-u-md-4-5')\n",
    "    if pages is not None:\n",
    "        pages = pages.find('div',attrs='pagination aligncenter')\n",
    "        if pages is not None:\n",
    "            all_li = pages.ul.find_all('li')\n",
    "            maxpage = int(all_li[len(all_li)-2].a.contents[0])\n",
    "        else:\n",
    "            maxpage=1\n",
    "    else:\n",
    "        maxpage=1\n",
    "\n",
    "    for j in xrange(1,maxpage+1):\n",
    "        anime_reviews1[all_anime[i].split('/')[-1]].append(requests.get(all_anime[i]+\"/reviews?page=\"+str(j)))\n",
    "        time.sleep(1)"
   ]
  },
  {
   "cell_type": "code",
   "execution_count": 2,
   "metadata": {
    "collapsed": true
   },
   "outputs": [],
   "source": [
    "#pickle.dump(anime_reviews, open(\"anime_reviews.p\", \"wb\"))\n",
    "\n",
    "test3 = open(\"anime_reviews.p\",'rb') \n",
    "anime_reviews = pickle.load(test3)  \n",
    "test3.close()"
   ]
  },
  {
   "cell_type": "code",
   "execution_count": null,
   "metadata": {
    "collapsed": false
   },
   "outputs": [],
   "source": [
    "#anime_reviews['digimon-adventure-tri-movie-2'][0].text"
   ]
  },
  {
   "cell_type": "code",
   "execution_count": 127,
   "metadata": {
    "collapsed": false
   },
   "outputs": [],
   "source": [
    "reviewsdict = {}\n",
    "for anime in anime_reviews.keys():\n",
    "    animedict = {anime:{}}\n",
    "    for i in range(len(anime_reviews[anime])):\n",
    "        soup = BeautifulSoup(anime_reviews[anime][i].text, \"html.parser\")\n",
    "        body = soup.find('div',attrs={\"class\": \"pure-u-1 pure-u-md-4-5\"})\n",
    "        if body is not None:\n",
    "            sections = body.find_all('section', attrs={'class':'pure-g'})\n",
    "            names = [i.find('a',attrs={'itemprop':'author'}).contents[0] for i in sections if i.find('a',attrs={'itemprop':'author'}) is not None]\n",
    "            scores = [i.find_all('div',attrs={'class':'pure-u-1-5'}) for i in sections if i.find_all('div',attrs={'class':'pure-u-1-5'}) != []]\n",
    "            story = [i[0].contents[0] for i in scores]\n",
    "            animation = [i[1].contents[0] for i in scores]\n",
    "            sound = [i[2].contents[0] for i in scores]\n",
    "            characters = [i[3].contents[0] for i in scores]\n",
    "            overall = [i[4].contents[0] for i in scores]\n",
    "            reviews = [i.contents[1].string for i in body.find_all('section', attrs={'class':'userContent readMore'})]\n",
    "            temp = dict(zip(names,zip(story,animation,sound,characters,overall,reviews)))\n",
    "            animedict[anime].update(temp)\n",
    "    reviewsdict.update(animedict)"
   ]
  },
  {
   "cell_type": "code",
   "execution_count": 95,
   "metadata": {
    "collapsed": false
   },
   "outputs": [],
   "source": [
    "# with open('all_reviews.json', 'w') as fp:\n",
    "#       json.dump(reviewsdict, fp)\n",
    "\n",
    "with open('../data/all_reviews.json','r') as data_file:    \n",
    "    reviewsdict = json.load(data_file)"
   ]
  },
  {
   "cell_type": "code",
   "execution_count": 96,
   "metadata": {
    "collapsed": false
   },
   "outputs": [
    {
     "data": {
      "text/plain": [
       "7282"
      ]
     },
     "execution_count": 96,
     "metadata": {},
     "output_type": "execute_result"
    }
   ],
   "source": [
    "len(reviewsdict)"
   ]
  },
  {
   "cell_type": "code",
   "execution_count": 97,
   "metadata": {
    "collapsed": false
   },
   "outputs": [],
   "source": [
    "reviewlist = []\n",
    "for i in reviewsdict.keys():\n",
    "    reviewlist+=reviewsdict[i].keys()\n",
    "users = list(set(reviewlist))"
   ]
  },
  {
   "cell_type": "code",
   "execution_count": 98,
   "metadata": {
    "collapsed": false
   },
   "outputs": [
    {
     "data": {
      "text/plain": [
       "(4420, 17019)"
      ]
     },
     "execution_count": 98,
     "metadata": {},
     "output_type": "execute_result"
    }
   ],
   "source": [
    "len(users),len(reviewlist)"
   ]
  },
  {
   "cell_type": "code",
   "execution_count": 109,
   "metadata": {
    "collapsed": false
   },
   "outputs": [],
   "source": [
    "newlist = []\n",
    "\n",
    "for key in reviewsdict:\n",
    "    for user in reviewsdict[key]:\n",
    "        story = reviewsdict[key][user][0]\n",
    "        animation = reviewsdict[key][user][1]\n",
    "        sound = reviewsdict[key][user][2]\n",
    "        character = reviewsdict[key][user][3]\n",
    "        overall = reviewsdict[key][user][4]\n",
    "        reviews = reviewsdict[key][user][5]\n",
    "        temp = {\"name\":user,'anime':key,'story':story,'animation':animation,'sound':sound,'character':character,'overall':overall,'reviews':reviews}\n",
    "        newlist.append(temp)"
   ]
  },
  {
   "cell_type": "code",
   "execution_count": 1,
   "metadata": {
    "collapsed": false
   },
   "outputs": [
    {
     "ename": "NameError",
     "evalue": "name 'newdata' is not defined",
     "output_type": "error",
     "traceback": [
      "\u001b[0;31m---------------------------------------------------------------------------\u001b[0m",
      "\u001b[0;31mNameError\u001b[0m                                 Traceback (most recent call last)",
      "\u001b[0;32m<ipython-input-1-ae4b03aeae80>\u001b[0m in \u001b[0;36m<module>\u001b[0;34m()\u001b[0m\n\u001b[0;32m----> 1\u001b[0;31m \u001b[0mnewdata\u001b[0m\u001b[0;34m\u001b[0m\u001b[0m\n\u001b[0m",
      "\u001b[0;31mNameError\u001b[0m: name 'newdata' is not defined"
     ]
    }
   ],
   "source": [
    "newdata"
   ]
  },
  {
   "cell_type": "code",
   "execution_count": 111,
   "metadata": {
    "collapsed": false
   },
   "outputs": [
    {
     "data": {
      "text/html": [
       "<div>\n",
       "<table border=\"1\" class=\"dataframe\">\n",
       "  <thead>\n",
       "    <tr style=\"text-align: right;\">\n",
       "      <th></th>\n",
       "      <th>animation</th>\n",
       "      <th>anime</th>\n",
       "      <th>character</th>\n",
       "      <th>name</th>\n",
       "      <th>overall</th>\n",
       "      <th>reviews</th>\n",
       "      <th>sound</th>\n",
       "      <th>story</th>\n",
       "    </tr>\n",
       "  </thead>\n",
       "  <tbody>\n",
       "    <tr>\n",
       "      <th>0</th>\n",
       "      <td>\\n5/10</td>\n",
       "      <td>dokkoida</td>\n",
       "      <td>\\n6/10</td>\n",
       "      <td>angelsreviews</td>\n",
       "      <td>\\n5/10</td>\n",
       "      <td>None</td>\n",
       "      <td>\\n5/10</td>\n",
       "      <td>\\n8/10</td>\n",
       "    </tr>\n",
       "    <tr>\n",
       "      <th>1</th>\n",
       "      <td>\\n9/10</td>\n",
       "      <td>inazuma-eleven</td>\n",
       "      <td>\\n9/10</td>\n",
       "      <td>xxjacobxx3</td>\n",
       "      <td>\\n9/10</td>\n",
       "      <td>first of all: I agree with ﻿﻿﻿﻿luminex's revie...</td>\n",
       "      <td>\\n9/10</td>\n",
       "      <td>\\n9/10</td>\n",
       "    </tr>\n",
       "    <tr>\n",
       "      <th>2</th>\n",
       "      <td>\\n8/10</td>\n",
       "      <td>inazuma-eleven</td>\n",
       "      <td>\\n6/10</td>\n",
       "      <td>Lumineux</td>\n",
       "      <td>\\n7/10</td>\n",
       "      <td>Story: 6</td>\n",
       "      <td>\\n8/10</td>\n",
       "      <td>\\n6/10</td>\n",
       "    </tr>\n",
       "    <tr>\n",
       "      <th>3</th>\n",
       "      <td>\\n6.5/10</td>\n",
       "      <td>wizardry</td>\n",
       "      <td>\\n5/10</td>\n",
       "      <td>sothis</td>\n",
       "      <td>\\n7/10</td>\n",
       "      <td>None</td>\n",
       "      <td>\\n6/10</td>\n",
       "      <td>\\n8/10</td>\n",
       "    </tr>\n",
       "    <tr>\n",
       "      <th>4</th>\n",
       "      <td>\\n7/10</td>\n",
       "      <td>wizardry</td>\n",
       "      <td>\\n8/10</td>\n",
       "      <td>Pauwolf</td>\n",
       "      <td>\\n7/10</td>\n",
       "      <td>Inspired by an old videogame, this 50 minutes ...</td>\n",
       "      <td>\\n7/10</td>\n",
       "      <td>\\n6/10</td>\n",
       "    </tr>\n",
       "  </tbody>\n",
       "</table>\n",
       "</div>"
      ],
      "text/plain": [
       "   animation           anime character           name  overall                                            reviews    sound    story\n",
       "0    \\n5/10         dokkoida   \\n6/10   angelsreviews  \\n5/10                                                None  \\n5/10   \\n8/10 \n",
       "1    \\n9/10   inazuma-eleven   \\n9/10      xxjacobxx3  \\n9/10   first of all: I agree with ﻿﻿﻿﻿luminex's revie...  \\n9/10   \\n9/10 \n",
       "2    \\n8/10   inazuma-eleven   \\n6/10        Lumineux  \\n7/10                                            Story: 6  \\n8/10   \\n6/10 \n",
       "3  \\n6.5/10         wizardry   \\n5/10          sothis  \\n7/10                                                None  \\n6/10   \\n8/10 \n",
       "4    \\n7/10         wizardry   \\n8/10         Pauwolf  \\n7/10   Inspired by an old videogame, this 50 minutes ...  \\n7/10   \\n6/10 "
      ]
     },
     "execution_count": 111,
     "metadata": {},
     "output_type": "execute_result"
    }
   ],
   "source": [
    "newdata = pd.DataFrame(newlist)\n",
    "newdata.head()"
   ]
  },
  {
   "cell_type": "code",
   "execution_count": null,
   "metadata": {
    "collapsed": true
   },
   "outputs": [],
   "source": [
    "newdata.to_csv('../data/all_reviews.csv',sep='\\t',encoding='utf-8')"
   ]
  },
  {
   "cell_type": "markdown",
   "metadata": {},
   "source": [
    "#### Getting User Profile"
   ]
  },
  {
   "cell_type": "code",
   "execution_count": 8,
   "metadata": {
    "collapsed": false
   },
   "outputs": [
    {
     "name": "stdout",
     "output_type": "stream",
     "text": [
      "CPU times: user 3min 17s, sys: 26.8 s, total: 3min 44s\n",
      "Wall time: 1h 46min 45s\n"
     ]
    }
   ],
   "source": [
    "%%time\n",
    "root = 'http://www.anime-planet.com/users/'\n",
    "user_profiles = {}\n",
    "for i in xrange(len(users)):\n",
    "    user = requests.get(root+users[i])\n",
    "    soup = BeautifulSoup(user.text, \"html.parser\")\n",
    "    user_profiles[users[i]]=soup\n",
    "    time.sleep(1)"
   ]
  },
  {
   "cell_type": "code",
   "execution_count": 91,
   "metadata": {
    "collapsed": false
   },
   "outputs": [],
   "source": [
    "each_user_info = {}\n",
    "\n",
    "for user in user_profiles.keys():\n",
    "    test = user_profiles[user]\n",
    "    user_info = {}\n",
    "\n",
    "    info = test.find('div',attrs={'class':'pure-u-3-5 pure-u-md-4-5'})\n",
    "    name = info.find('h2',attrs={'id':'profileName'}).find_all('a')[1].contents[0]\n",
    "\n",
    "    stats = info.find('ul',attrs={'class':'userStats'}).findAll('li')\n",
    "    place = \"\"\n",
    "    age_sex = \"\"\n",
    "    join = \"\"\n",
    "\n",
    "    # find place, age, sex if exist\n",
    "    for li in stats:\n",
    "        if li.findAll(attrs={\"class\" : \"fa fa-home\"}):\n",
    "            place = li.contents[1]\n",
    "        elif li.findAll(attrs={\"class\" : \"fa fa-calendar\"}):\n",
    "            join = li.contents[1]\n",
    "        elif li.findAll(attrs={\"class\" : \"fa fa-user\"}):\n",
    "            age_sex = li.contents[2].replace('\\n','')\n",
    "\n",
    "    each_user_info[name] = {\"place\":place,\"age_sex\":age_sex,\"join\":join}"
   ]
  },
  {
   "cell_type": "code",
   "execution_count": 2,
   "metadata": {
    "collapsed": false
   },
   "outputs": [
    {
     "ename": "IOError",
     "evalue": "[Errno 2] No such file or directory: '../data/all_users.json'",
     "output_type": "error",
     "traceback": [
      "\u001b[0;31m---------------------------------------------------------------------------\u001b[0m",
      "\u001b[0;31mIOError\u001b[0m                                   Traceback (most recent call last)",
      "\u001b[0;32m<ipython-input-2-242ca0196b2a>\u001b[0m in \u001b[0;36m<module>\u001b[0;34m()\u001b[0m\n\u001b[1;32m      2\u001b[0m \u001b[0;31m#        json.dump(each_user_info, fp)\u001b[0m\u001b[0;34m\u001b[0m\u001b[0;34m\u001b[0m\u001b[0m\n\u001b[1;32m      3\u001b[0m \u001b[0;34m\u001b[0m\u001b[0m\n\u001b[0;32m----> 4\u001b[0;31m \u001b[0;32mwith\u001b[0m \u001b[0mopen\u001b[0m\u001b[0;34m(\u001b[0m\u001b[0;34m'../data/all_users.json'\u001b[0m\u001b[0;34m,\u001b[0m\u001b[0;34m'r'\u001b[0m\u001b[0;34m)\u001b[0m \u001b[0;32mas\u001b[0m \u001b[0mdata_file\u001b[0m\u001b[0;34m:\u001b[0m\u001b[0;34m\u001b[0m\u001b[0m\n\u001b[0m\u001b[1;32m      5\u001b[0m     \u001b[0meach_user_info\u001b[0m \u001b[0;34m=\u001b[0m \u001b[0mjson\u001b[0m\u001b[0;34m.\u001b[0m\u001b[0mload\u001b[0m\u001b[0;34m(\u001b[0m\u001b[0mdata_file\u001b[0m\u001b[0;34m)\u001b[0m\u001b[0;34m\u001b[0m\u001b[0m\n",
      "\u001b[0;31mIOError\u001b[0m: [Errno 2] No such file or directory: '../data/all_users.json'"
     ]
    }
   ],
   "source": [
    "# with open('../data/all_users.json', 'w') as fp:\n",
    "#        json.dump(each_user_info, fp)\n",
    "\n",
    "with open('../data/all_users.json','r') as data_file:    \n",
    "    each_user_info = json.load(data_file)"
   ]
  },
  {
   "cell_type": "code",
   "execution_count": 115,
   "metadata": {
    "collapsed": false
   },
   "outputs": [
    {
     "data": {
      "text/html": [
       "<div>\n",
       "<table border=\"1\" class=\"dataframe\">\n",
       "  <thead>\n",
       "    <tr style=\"text-align: right;\">\n",
       "      <th></th>\n",
       "      <th>age_sex</th>\n",
       "      <th>join</th>\n",
       "      <th>place</th>\n",
       "    </tr>\n",
       "  </thead>\n",
       "  <tbody>\n",
       "    <tr>\n",
       "      <th>00081</th>\n",
       "      <td>26</td>\n",
       "      <td>Joined Jan 16, 2012</td>\n",
       "      <td>Death Star</td>\n",
       "    </tr>\n",
       "    <tr>\n",
       "      <th>0Marcandre</th>\n",
       "      <td>20 / M</td>\n",
       "      <td>Joined Mar 31, 2013</td>\n",
       "      <td></td>\n",
       "    </tr>\n",
       "    <tr>\n",
       "      <th>0oDaano0</th>\n",
       "      <td>?</td>\n",
       "      <td>Joined Apr 9, 2013</td>\n",
       "      <td></td>\n",
       "    </tr>\n",
       "    <tr>\n",
       "      <th>0utl4w</th>\n",
       "      <td>?</td>\n",
       "      <td>Joined Mar 31, 2010</td>\n",
       "      <td>somewhere</td>\n",
       "    </tr>\n",
       "    <tr>\n",
       "      <th>11bowman</th>\n",
       "      <td>21 / M</td>\n",
       "      <td>Joined Jun 19, 2010</td>\n",
       "      <td>Amsterdam, Netherlands</td>\n",
       "    </tr>\n",
       "  </tbody>\n",
       "</table>\n",
       "</div>"
      ],
      "text/plain": [
       "            age_sex                 join                   place\n",
       "00081           26   Joined Jan 16, 2012              Death Star\n",
       "0Marcandre  20 / M   Joined Mar 31, 2013                        \n",
       "0oDaano0         ?    Joined Apr 9, 2013                        \n",
       "0utl4w           ?   Joined Mar 31, 2010               somewhere\n",
       "11bowman    21 / M   Joined Jun 19, 2010  Amsterdam, Netherlands"
      ]
     },
     "execution_count": 115,
     "metadata": {},
     "output_type": "execute_result"
    }
   ],
   "source": [
    "userdf = pd.DataFrame(each_user_info).T\n",
    "userdf.head()"
   ]
  },
  {
   "cell_type": "code",
   "execution_count": null,
   "metadata": {
    "collapsed": true
   },
   "outputs": [],
   "source": [
    "userdf.to_csv('../data/all_users.csv',sep='\\t',encoding='utf-8')"
   ]
  }
 ],
 "metadata": {
  "kernelspec": {
   "display_name": "Python 2",
   "language": "python",
   "name": "python2"
  },
  "language_info": {
   "codemirror_mode": {
    "name": "ipython",
    "version": 2
   },
   "file_extension": ".py",
   "mimetype": "text/x-python",
   "name": "python",
   "nbconvert_exporter": "python",
   "pygments_lexer": "ipython2",
   "version": "2.7.10"
  }
 },
 "nbformat": 4,
 "nbformat_minor": 0
}

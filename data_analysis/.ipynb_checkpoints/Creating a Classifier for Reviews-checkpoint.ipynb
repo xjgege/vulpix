{
 "cells": [
  {
   "cell_type": "code",
   "execution_count": 1,
   "metadata": {
    "collapsed": false
   },
   "outputs": [],
   "source": [
    "%matplotlib inline\n",
    "import numpy as np\n",
    "import scipy as sp\n",
    "import matplotlib as mpl\n",
    "import matplotlib.cm as cm\n",
    "import matplotlib.pyplot as plt\n",
    "import pandas as pd\n",
    "pd.set_option('display.width', 500)\n",
    "pd.set_option('display.max_columns', 100)\n",
    "pd.set_option('display.notebook_repr_html', True)\n",
    "import seaborn as sns\n",
    "sns.set_style(\"whitegrid\")\n",
    "sns.set_context(\"poster\")\n",
    "from sklearn.cross_validation import train_test_split\n",
    "\n",
    "from collections import defaultdict"
   ]
  },
  {
   "cell_type": "code",
   "execution_count": null,
   "metadata": {
    "collapsed": true
   },
   "outputs": [],
   "source": [
    "import sys\n",
    "reload(sys)\n",
    "sys.setdefaultencoding(\"utf-8\")"
   ]
  },
  {
   "cell_type": "code",
   "execution_count": null,
   "metadata": {
    "collapsed": false
   },
   "outputs": [],
   "source": [
    "reviews = pd.read_csv('../data/all_reviews.csv',sep='\\t',encoding='utf-8', index_col=0)\n",
    "users = pd.read_csv('../data/all_users.csv',sep='\\t',encoding='utf-8', index_col=0)\n",
    "reviews.animation = reviews.animation.str.strip().str[0:-3].convert_objects(convert_numeric=True)\n",
    "reviews.character = reviews.character.str.strip().str[0:-3].convert_objects(convert_numeric=True)\n",
    "reviews.overall = reviews.overall.str.strip().str[0:-3].convert_objects(convert_numeric=True)\n",
    "reviews.sound = reviews.sound.str.strip().str[0:-3].convert_objects(convert_numeric=True)\n",
    "reviews.story = reviews.story.str.strip().str[0:-3].convert_objects(convert_numeric=True)"
   ]
  },
  {
   "cell_type": "markdown",
   "metadata": {},
   "source": [
    "### Cleaning user information"
   ]
  },
  {
   "cell_type": "code",
   "execution_count": null,
   "metadata": {
    "collapsed": false
   },
   "outputs": [],
   "source": [
    "for i in users.index:\n",
    "    temp = users.ix[i,'age_sex'].strip().split('/')\n",
    "    age = '?'\n",
    "    sex = '?'\n",
    "    if len(temp)==2:\n",
    "        age = temp[0]\n",
    "        sex = temp[1]\n",
    "    elif temp[0].isdigit():\n",
    "        age = temp[0]\n",
    "    else:\n",
    "        sex = temp[0]\n",
    "    users.ix[i,'age']=age\n",
    "    users.ix[i,'sex']=sex"
   ]
  },
  {
   "cell_type": "code",
   "execution_count": null,
   "metadata": {
    "collapsed": false
   },
   "outputs": [],
   "source": [
    "subusers = users.loc[(users.age!='? ')&(users.sex!='?')]\n",
    "print subusers.shape\n",
    "subusers.head()"
   ]
  },
  {
   "cell_type": "markdown",
   "metadata": {},
   "source": [
    "### Combining users with review information"
   ]
  },
  {
   "cell_type": "code",
   "execution_count": null,
   "metadata": {
    "collapsed": false
   },
   "outputs": [],
   "source": [
    "mask = [ True if i in subusers.index.tolist() else False for i in reviews.name]\n",
    "subreviews = reviews.loc[mask]"
   ]
  },
  {
   "cell_type": "code",
   "execution_count": null,
   "metadata": {
    "collapsed": false
   },
   "outputs": [],
   "source": [
    "age = []\n",
    "sex = []\n",
    "\n",
    "for i in subreviews.index:\n",
    "    age.append(int(subusers.ix[subreviews.ix[i,'name'],'age']))\n",
    "    sex.append(subusers.ix[subreviews.ix[i,'name'],'sex'])\n",
    "    \n",
    "subreviews.loc[:,'age']=age\n",
    "subreviews.loc[:,'sex']=sex\n",
    "\n",
    "subreviews.head()"
   ]
  },
  {
   "cell_type": "code",
   "execution_count": null,
   "metadata": {
    "collapsed": false
   },
   "outputs": [],
   "source": [
    "subusers.head()"
   ]
  },
  {
   "cell_type": "code",
   "execution_count": null,
   "metadata": {
    "collapsed": false
   },
   "outputs": [],
   "source": [
    "mean_age = subreviews.age.mean()\n",
    "\n",
    "age = []\n",
    "sex = []\n",
    "\n",
    "final = reviews.copy()\n",
    "\n",
    "for i in final.index:\n",
    "    name = final.ix[i,'name']\n",
    "    if name in subusers.index:\n",
    "        age.append(int(subusers.ix[name,'age']))\n",
    "        sex.append(subusers.ix[name,'sex'].strip())\n",
    "    else:\n",
    "        age.append(mean_age)\n",
    "        ran = np.random.random_integers(0,high=1)\n",
    "        if ran==1:\n",
    "            sex.append('M')\n",
    "        else:\n",
    "            sex.append('F')\n",
    "        \n",
    "    \n",
    "final.loc[:,'age']=age\n",
    "final.loc[:,'sex']=sex\n",
    "\n",
    "final.head()"
   ]
  },
  {
   "cell_type": "code",
   "execution_count": null,
   "metadata": {
    "collapsed": false
   },
   "outputs": [],
   "source": [
    "for i,val in enumerate(final.anime_name):\n",
    "    if val == 'Beyblade: G Revolution':\n",
    "        final.ix[i,'anime_name']='Beyblade G Revolution'\n",
    "    if val == 'Beyblade: V-Force':\n",
    "        final.ix[i,'anime_name']='Beyblade V-Force'\n",
    "    if val == 'Beyblade: The Movie':\n",
    "        final.ix[i,'anime_name']='Beyblade - The Movie'"
   ]
  },
  {
   "cell_type": "markdown",
   "metadata": {},
   "source": [
    "### Adding in more features"
   ]
  },
  {
   "cell_type": "code",
   "execution_count": null,
   "metadata": {
    "collapsed": false
   },
   "outputs": [],
   "source": [
    "data=pd.read_csv(\"../data/anime_info.csv\",sep='\\t', index_col=0)\n",
    "anime_name = pd.read_csv('../data/anime_name.csv',sep='\\t',encoding='utf-8', index_col=0)\n",
    "data.head()"
   ]
  },
  {
   "cell_type": "code",
   "execution_count": null,
   "metadata": {
    "collapsed": false
   },
   "outputs": [],
   "source": [
    "names = []\n",
    "for i in data.index:\n",
    "    names.append(i.encode('ascii', 'ignore'))\n",
    "data.index=names"
   ]
  },
  {
   "cell_type": "code",
   "execution_count": null,
   "metadata": {
    "collapsed": false
   },
   "outputs": [],
   "source": [
    "# checking how many unique categories\n",
    "genres = data.categories.tolist()\n",
    "\n",
    "temp = []\n",
    "for i in genres:\n",
    "    if type(i)==str:\n",
    "        temp+=i.replace('[','').replace(']','').replace(' ','').split(',')\n",
    "uniq_genres = list(set(temp))\n",
    "len(uniq_genres)"
   ]
  },
  {
   "cell_type": "code",
   "execution_count": null,
   "metadata": {
    "collapsed": false
   },
   "outputs": [],
   "source": [
    "# changing categories from string to list\n",
    "temp = []\n",
    "genres = data.categories.tolist()\n",
    "for i in genres:\n",
    "    if type(i)==str:\n",
    "        temp.append(i.replace('[','').replace(']','').replace(' ','').split(','))\n",
    "    else:\n",
    "        temp.append([])\n",
    "data.loc[:,'categories_list'] = temp"
   ]
  },
  {
   "cell_type": "code",
   "execution_count": null,
   "metadata": {
    "collapsed": false
   },
   "outputs": [],
   "source": [
    "# finding categories\n",
    "categories = defaultdict(list)\n",
    "for i in final.anime_name:\n",
    "    cat = data.loc[i.encode('ascii', 'ignore'),'categories_list']\n",
    "    for j in cat:\n",
    "        categories[j].append(1)\n",
    "    for k in uniq_genres:\n",
    "        if k not in cat:\n",
    "            categories[k].append(0)\n",
    "            \n",
    "# add categories to final\n",
    "for i in categories:\n",
    "    final.loc[:,i] = categories[i]"
   ]
  },
  {
   "cell_type": "code",
   "execution_count": null,
   "metadata": {
    "collapsed": false
   },
   "outputs": [],
   "source": [
    "per = final.shape[0]*0.005\n",
    "print (final.ix[:,11:].sum(axis=0)>per).sum()\n",
    "mask = (final.ix[:,11:].sum(axis=0)>per)"
   ]
  },
  {
   "cell_type": "code",
   "execution_count": null,
   "metadata": {
    "collapsed": false
   },
   "outputs": [],
   "source": [
    "for i in final.columns[11:]:\n",
    "    check = mask[i]\n",
    "    if not check:\n",
    "        final.drop(i,axis=1,inplace=True)"
   ]
  },
  {
   "cell_type": "code",
   "execution_count": null,
   "metadata": {
    "collapsed": false
   },
   "outputs": [],
   "source": [
    "final.to_csv('../data/final_review.csv')"
   ]
  },
  {
   "cell_type": "markdown",
   "metadata": {},
   "source": [
    "### Data"
   ]
  },
  {
   "cell_type": "code",
   "execution_count": 2,
   "metadata": {
    "collapsed": true
   },
   "outputs": [],
   "source": [
    "final = pd.read_csv('../data/final_review.csv',index_col=0)"
   ]
  },
  {
   "cell_type": "code",
   "execution_count": 3,
   "metadata": {
    "collapsed": false
   },
   "outputs": [],
   "source": [
    "ratings = ['animation','character','overall','sound','story']\n",
    "for i in ratings:\n",
    "    mean = final.ix[:,i].mean()\n",
    "    final.ix[:,i].fillna(mean,inplace=True)"
   ]
  },
  {
   "cell_type": "code",
   "execution_count": 4,
   "metadata": {
    "collapsed": false
   },
   "outputs": [
    {
     "name": "stdout",
     "output_type": "stream",
     "text": [
      "(17194, 141)\n",
      "(17194, 141)\n"
     ]
    }
   ],
   "source": [
    "# in case of repeats\n",
    "print final.shape\n",
    "final=final.drop_duplicates(['anime','name'])\n",
    "print final.shape"
   ]
  },
  {
   "cell_type": "code",
   "execution_count": 5,
   "metadata": {
    "collapsed": false
   },
   "outputs": [
    {
     "name": "stdout",
     "output_type": "stream",
     "text": [
      "User review counts mean and median 3.85342895563 1.0\n"
     ]
    },
    {
     "data": {
      "text/plain": [
       "(0, 20)"
      ]
     },
     "execution_count": 5,
     "metadata": {},
     "output_type": "execute_result"
    },
    {
     "data": {
      "image/png": "[encoded data removed]",
      "text/plain": [
       "<matplotlib.figure.Figure at 0x104786ed0>"
      ]
     },
     "metadata": {},
     "output_type": "display_data"
    }
   ],
   "source": [
    "c=final.groupby('name').anime.count()\n",
    "print \"User review counts mean and median\",np.mean(c), np.median(c)\n",
    "plt.hist(c, bins=np.arange(50), alpha=0.5, label=\"user reviews\");\n",
    "plt.legend();\n",
    "plt.xlim([0,20])"
   ]
  },
  {
   "cell_type": "code",
   "execution_count": 6,
   "metadata": {
    "collapsed": true
   },
   "outputs": [],
   "source": [
    "# sort animes with more than one review\n",
    "# anime_vc = final.anime.value_counts()\n",
    "# sub_reviews = final[final.anime.isin(anime_vc[anime_vc > 10].index)]\n",
    "\n",
    "# splitting into train, test, and validate\n",
    "train, test = train_test_split(final,train_size=0.5,test_size=0.5)\n",
    "validate, test = train_test_split(test,train_size=0.5,test_size=0.5)"
   ]
  },
  {
   "cell_type": "code",
   "execution_count": 7,
   "metadata": {
    "collapsed": false
   },
   "outputs": [
    {
     "data": {
      "text/plain": [
       "((8597, 141), (4299, 141))"
      ]
     },
     "execution_count": 7,
     "metadata": {},
     "output_type": "execute_result"
    }
   ],
   "source": [
    "train.shape,test.shape"
   ]
  },
  {
   "cell_type": "code",
   "execution_count": 8,
   "metadata": {
    "collapsed": false
   },
   "outputs": [
    {
     "data": {
      "text/plain": [
       "7.145632197278147"
      ]
     },
     "execution_count": 8,
     "metadata": {},
     "output_type": "execute_result"
    }
   ],
   "source": [
    "ybar = train.overall.mean()\n",
    "ybar"
   ]
  },
  {
   "cell_type": "code",
   "execution_count": 9,
   "metadata": {
    "collapsed": false
   },
   "outputs": [],
   "source": [
    "# mapping of userid and anime\n",
    "uuids=train.name.unique()#unique-user-ids\n",
    "uiids=train.anime.unique()#unique-item-ids\n",
    "\n",
    "uuidmap={v:k for k,v in enumerate(uuids)}#of length U\n",
    "uiidmap={v:k for k,v in enumerate(uiids)}#of length M"
   ]
  },
  {
   "cell_type": "code",
   "execution_count": 10,
   "metadata": {
    "collapsed": false
   },
   "outputs": [
    {
     "data": {
      "text/html": [
       "<div>\n",
       "<table border=\"1\" class=\"dataframe\">\n",
       "  <thead>\n",
       "    <tr style=\"text-align: right;\">\n",
       "      <th></th>\n",
       "      <th>animation</th>\n",
       "      <th>anime</th>\n",
       "      <th>anime_name</th>\n",
       "      <th>character</th>\n",
       "      <th>name</th>\n",
       "      <th>overall</th>\n",
       "      <th>reviews</th>\n",
       "      <th>sound</th>\n",
       "      <th>story</th>\n",
       "      <th>age</th>\n",
       "      <th>sex</th>\n",
       "      <th>Trains</th>\n",
       "      <th>BoardingHouse</th>\n",
       "      <th>Political</th>\n",
       "      <th>Demons</th>\n",
       "      <th>BasedonaLightNovel</th>\n",
       "      <th>Supernatural</th>\n",
       "      <th>Comedy</th>\n",
       "      <th>BountyHunters</th>\n",
       "      <th>Harem</th>\n",
       "      <th>EmotionalAbuse</th>\n",
       "      <th>Androids</th>\n",
       "      <th>Robots</th>\n",
       "      <th>Mecha</th>\n",
       "      <th>Western</th>\n",
       "      <th>Ninja</th>\n",
       "      <th>Thriller</th>\n",
       "      <th>Adventure</th>\n",
       "      <th>LoveTriangle</th>\n",
       "      <th>Magic</th>\n",
       "      <th>RPG</th>\n",
       "      <th>Violence</th>\n",
       "      <th>Shinigami</th>\n",
       "      <th>Military</th>\n",
       "      <th>Sports</th>\n",
       "      <th>Parody</th>\n",
       "      <th>TimeTravel</th>\n",
       "      <th>Aliens</th>\n",
       "      <th>JapaneseMythology</th>\n",
       "      <th>ReverseHarem</th>\n",
       "      <th>Cyberpunk</th>\n",
       "      <th>Swordplay</th>\n",
       "      <th>ClassicalMusic</th>\n",
       "      <th>Detectives</th>\n",
       "      <th>FeudalJapan</th>\n",
       "      <th>Romance</th>\n",
       "      <th>Terrorism</th>\n",
       "      <th>Tournaments</th>\n",
       "      <th>MagicalGirl</th>\n",
       "      <th>PantyShots</th>\n",
       "      <th>...</th>\n",
       "      <th>BasedonaVideoGame</th>\n",
       "      <th>Mercenaries</th>\n",
       "      <th>PersoninaStrangeWorld</th>\n",
       "      <th>FoodandBeverage</th>\n",
       "      <th>Vampires</th>\n",
       "      <th>Cyborgs</th>\n",
       "      <th>Incest</th>\n",
       "      <th>Shoujo-ai</th>\n",
       "      <th>MMORPG</th>\n",
       "      <th>LGBTThemes</th>\n",
       "      <th>noitaminA</th>\n",
       "      <th>Abstract</th>\n",
       "      <th>SuddenGirlfriendAppearance</th>\n",
       "      <th>Monster-of-the-week</th>\n",
       "      <th>Mystery</th>\n",
       "      <th>OriginalWork</th>\n",
       "      <th>Police</th>\n",
       "      <th>WorkLife</th>\n",
       "      <th>PsychicPowers</th>\n",
       "      <th>Maids</th>\n",
       "      <th>PlayorDie</th>\n",
       "      <th>Chibi</th>\n",
       "      <th>Dystopia</th>\n",
       "      <th>Psychological</th>\n",
       "      <th>HandtoHandCombat</th>\n",
       "      <th>Crude</th>\n",
       "      <th>Angels</th>\n",
       "      <th>SliceofLife</th>\n",
       "      <th>BasedonaVisualNovel</th>\n",
       "      <th>ExplicitSex</th>\n",
       "      <th>Shorts</th>\n",
       "      <th>Survival</th>\n",
       "      <th>OuterSpace</th>\n",
       "      <th>CGAnimation</th>\n",
       "      <th>Master-ServantRelationship</th>\n",
       "      <th>ExplicitViolence</th>\n",
       "      <th>Assassins</th>\n",
       "      <th>MatureThemes</th>\n",
       "      <th>Josei</th>\n",
       "      <th>MartialArts</th>\n",
       "      <th>America</th>\n",
       "      <th>BasedonanOtomeGame</th>\n",
       "      <th>Gunfights</th>\n",
       "      <th>Samurai</th>\n",
       "      <th>ComingofAge</th>\n",
       "      <th>AnimalAbuse</th>\n",
       "      <th>Fantasy</th>\n",
       "      <th>PhysicalAbuse</th>\n",
       "      <th>SchoolLife</th>\n",
       "      <th>Ecchi</th>\n",
       "    </tr>\n",
       "  </thead>\n",
       "  <tbody>\n",
       "    <tr>\n",
       "      <th>0</th>\n",
       "      <td>10</td>\n",
       "      <td>to-aru-majutsu-no-index-10th-anniversary-pv</td>\n",
       "      <td>To Aru Majutsu no Index 10th Anniversary PV</td>\n",
       "      <td>10</td>\n",
       "      <td>SogiitaGunhaGUTS</td>\n",
       "      <td>10</td>\n",
       "      <td>Well it's a short animation to celebrate Kamac...</td>\n",
       "      <td>7.620556</td>\n",
       "      <td>6.811945</td>\n",
       "      <td>15.00000</td>\n",
       "      <td>M</td>\n",
       "      <td>0</td>\n",
       "      <td>0</td>\n",
       "      <td>0</td>\n",
       "      <td>0</td>\n",
       "      <td>0</td>\n",
       "      <td>0</td>\n",
       "      <td>0</td>\n",
       "      <td>0</td>\n",
       "      <td>0</td>\n",
       "      <td>0</td>\n",
       "      <td>0</td>\n",
       "      <td>0</td>\n",
       "      <td>0</td>\n",
       "      <td>0</td>\n",
       "      <td>0</td>\n",
       "      <td>0</td>\n",
       "      <td>0</td>\n",
       "      <td>0</td>\n",
       "      <td>0</td>\n",
       "      <td>0</td>\n",
       "      <td>0</td>\n",
       "      <td>0</td>\n",
       "      <td>0</td>\n",
       "      <td>0</td>\n",
       "      <td>0</td>\n",
       "      <td>0</td>\n",
       "      <td>0</td>\n",
       "      <td>0</td>\n",
       "      <td>0</td>\n",
       "      <td>0</td>\n",
       "      <td>0</td>\n",
       "      <td>0</td>\n",
       "      <td>0</td>\n",
       "      <td>0</td>\n",
       "      <td>0</td>\n",
       "      <td>0</td>\n",
       "      <td>0</td>\n",
       "      <td>0</td>\n",
       "      <td>0</td>\n",
       "      <td>...</td>\n",
       "      <td>0</td>\n",
       "      <td>0</td>\n",
       "      <td>0</td>\n",
       "      <td>0</td>\n",
       "      <td>0</td>\n",
       "      <td>0</td>\n",
       "      <td>0</td>\n",
       "      <td>0</td>\n",
       "      <td>0</td>\n",
       "      <td>0</td>\n",
       "      <td>0</td>\n",
       "      <td>0</td>\n",
       "      <td>0</td>\n",
       "      <td>0</td>\n",
       "      <td>0</td>\n",
       "      <td>0</td>\n",
       "      <td>0</td>\n",
       "      <td>0</td>\n",
       "      <td>0</td>\n",
       "      <td>0</td>\n",
       "      <td>0</td>\n",
       "      <td>0</td>\n",
       "      <td>0</td>\n",
       "      <td>0</td>\n",
       "      <td>0</td>\n",
       "      <td>0</td>\n",
       "      <td>0</td>\n",
       "      <td>0</td>\n",
       "      <td>0</td>\n",
       "      <td>0</td>\n",
       "      <td>0</td>\n",
       "      <td>0</td>\n",
       "      <td>0</td>\n",
       "      <td>0</td>\n",
       "      <td>0</td>\n",
       "      <td>0</td>\n",
       "      <td>0</td>\n",
       "      <td>0</td>\n",
       "      <td>0</td>\n",
       "      <td>0</td>\n",
       "      <td>0</td>\n",
       "      <td>0</td>\n",
       "      <td>0</td>\n",
       "      <td>0</td>\n",
       "      <td>0</td>\n",
       "      <td>0</td>\n",
       "      <td>0</td>\n",
       "      <td>0</td>\n",
       "      <td>0</td>\n",
       "      <td>0</td>\n",
       "    </tr>\n",
       "    <tr>\n",
       "      <th>1</th>\n",
       "      <td>5</td>\n",
       "      <td>dokkoida</td>\n",
       "      <td>Dokkoida?!</td>\n",
       "      <td>6</td>\n",
       "      <td>angelsreviews</td>\n",
       "      <td>5</td>\n",
       "      <td>NaN</td>\n",
       "      <td>5.000000</td>\n",
       "      <td>8.000000</td>\n",
       "      <td>26.00000</td>\n",
       "      <td>F</td>\n",
       "      <td>0</td>\n",
       "      <td>0</td>\n",
       "      <td>0</td>\n",
       "      <td>0</td>\n",
       "      <td>0</td>\n",
       "      <td>0</td>\n",
       "      <td>1</td>\n",
       "      <td>0</td>\n",
       "      <td>0</td>\n",
       "      <td>0</td>\n",
       "      <td>0</td>\n",
       "      <td>0</td>\n",
       "      <td>0</td>\n",
       "      <td>0</td>\n",
       "      <td>0</td>\n",
       "      <td>0</td>\n",
       "      <td>0</td>\n",
       "      <td>0</td>\n",
       "      <td>0</td>\n",
       "      <td>0</td>\n",
       "      <td>0</td>\n",
       "      <td>0</td>\n",
       "      <td>0</td>\n",
       "      <td>0</td>\n",
       "      <td>0</td>\n",
       "      <td>0</td>\n",
       "      <td>1</td>\n",
       "      <td>0</td>\n",
       "      <td>0</td>\n",
       "      <td>0</td>\n",
       "      <td>0</td>\n",
       "      <td>0</td>\n",
       "      <td>0</td>\n",
       "      <td>0</td>\n",
       "      <td>0</td>\n",
       "      <td>0</td>\n",
       "      <td>0</td>\n",
       "      <td>0</td>\n",
       "      <td>0</td>\n",
       "      <td>...</td>\n",
       "      <td>0</td>\n",
       "      <td>0</td>\n",
       "      <td>0</td>\n",
       "      <td>0</td>\n",
       "      <td>0</td>\n",
       "      <td>0</td>\n",
       "      <td>0</td>\n",
       "      <td>0</td>\n",
       "      <td>0</td>\n",
       "      <td>0</td>\n",
       "      <td>0</td>\n",
       "      <td>0</td>\n",
       "      <td>0</td>\n",
       "      <td>0</td>\n",
       "      <td>0</td>\n",
       "      <td>0</td>\n",
       "      <td>0</td>\n",
       "      <td>0</td>\n",
       "      <td>0</td>\n",
       "      <td>0</td>\n",
       "      <td>0</td>\n",
       "      <td>0</td>\n",
       "      <td>0</td>\n",
       "      <td>0</td>\n",
       "      <td>0</td>\n",
       "      <td>0</td>\n",
       "      <td>0</td>\n",
       "      <td>0</td>\n",
       "      <td>0</td>\n",
       "      <td>0</td>\n",
       "      <td>0</td>\n",
       "      <td>0</td>\n",
       "      <td>0</td>\n",
       "      <td>0</td>\n",
       "      <td>0</td>\n",
       "      <td>0</td>\n",
       "      <td>0</td>\n",
       "      <td>0</td>\n",
       "      <td>0</td>\n",
       "      <td>0</td>\n",
       "      <td>0</td>\n",
       "      <td>0</td>\n",
       "      <td>0</td>\n",
       "      <td>0</td>\n",
       "      <td>0</td>\n",
       "      <td>0</td>\n",
       "      <td>0</td>\n",
       "      <td>0</td>\n",
       "      <td>0</td>\n",
       "      <td>0</td>\n",
       "    </tr>\n",
       "    <tr>\n",
       "      <th>2</th>\n",
       "      <td>9</td>\n",
       "      <td>inazuma-eleven</td>\n",
       "      <td>Inazuma Eleven</td>\n",
       "      <td>9</td>\n",
       "      <td>xxjacobxx3</td>\n",
       "      <td>9</td>\n",
       "      <td>first of all: I agree with ﻿﻿﻿﻿luminex's revie...</td>\n",
       "      <td>9.000000</td>\n",
       "      <td>9.000000</td>\n",
       "      <td>25.00000</td>\n",
       "      <td>M</td>\n",
       "      <td>0</td>\n",
       "      <td>0</td>\n",
       "      <td>0</td>\n",
       "      <td>0</td>\n",
       "      <td>0</td>\n",
       "      <td>0</td>\n",
       "      <td>0</td>\n",
       "      <td>0</td>\n",
       "      <td>0</td>\n",
       "      <td>0</td>\n",
       "      <td>0</td>\n",
       "      <td>0</td>\n",
       "      <td>0</td>\n",
       "      <td>0</td>\n",
       "      <td>0</td>\n",
       "      <td>0</td>\n",
       "      <td>0</td>\n",
       "      <td>0</td>\n",
       "      <td>0</td>\n",
       "      <td>0</td>\n",
       "      <td>0</td>\n",
       "      <td>0</td>\n",
       "      <td>0</td>\n",
       "      <td>1</td>\n",
       "      <td>0</td>\n",
       "      <td>0</td>\n",
       "      <td>0</td>\n",
       "      <td>0</td>\n",
       "      <td>0</td>\n",
       "      <td>0</td>\n",
       "      <td>0</td>\n",
       "      <td>0</td>\n",
       "      <td>0</td>\n",
       "      <td>0</td>\n",
       "      <td>0</td>\n",
       "      <td>0</td>\n",
       "      <td>0</td>\n",
       "      <td>0</td>\n",
       "      <td>0</td>\n",
       "      <td>...</td>\n",
       "      <td>1</td>\n",
       "      <td>0</td>\n",
       "      <td>0</td>\n",
       "      <td>0</td>\n",
       "      <td>0</td>\n",
       "      <td>0</td>\n",
       "      <td>0</td>\n",
       "      <td>0</td>\n",
       "      <td>0</td>\n",
       "      <td>0</td>\n",
       "      <td>0</td>\n",
       "      <td>0</td>\n",
       "      <td>0</td>\n",
       "      <td>0</td>\n",
       "      <td>0</td>\n",
       "      <td>0</td>\n",
       "      <td>0</td>\n",
       "      <td>0</td>\n",
       "      <td>0</td>\n",
       "      <td>0</td>\n",
       "      <td>0</td>\n",
       "      <td>0</td>\n",
       "      <td>0</td>\n",
       "      <td>0</td>\n",
       "      <td>0</td>\n",
       "      <td>0</td>\n",
       "      <td>0</td>\n",
       "      <td>0</td>\n",
       "      <td>0</td>\n",
       "      <td>0</td>\n",
       "      <td>0</td>\n",
       "      <td>0</td>\n",
       "      <td>0</td>\n",
       "      <td>0</td>\n",
       "      <td>0</td>\n",
       "      <td>0</td>\n",
       "      <td>0</td>\n",
       "      <td>0</td>\n",
       "      <td>0</td>\n",
       "      <td>0</td>\n",
       "      <td>0</td>\n",
       "      <td>0</td>\n",
       "      <td>0</td>\n",
       "      <td>0</td>\n",
       "      <td>0</td>\n",
       "      <td>0</td>\n",
       "      <td>0</td>\n",
       "      <td>0</td>\n",
       "      <td>0</td>\n",
       "      <td>0</td>\n",
       "    </tr>\n",
       "    <tr>\n",
       "      <th>3</th>\n",
       "      <td>8</td>\n",
       "      <td>inazuma-eleven</td>\n",
       "      <td>Inazuma Eleven</td>\n",
       "      <td>6</td>\n",
       "      <td>Lumineux</td>\n",
       "      <td>7</td>\n",
       "      <td>Story: 6</td>\n",
       "      <td>8.000000</td>\n",
       "      <td>6.000000</td>\n",
       "      <td>25.23511</td>\n",
       "      <td>F</td>\n",
       "      <td>0</td>\n",
       "      <td>0</td>\n",
       "      <td>0</td>\n",
       "      <td>0</td>\n",
       "      <td>0</td>\n",
       "      <td>0</td>\n",
       "      <td>0</td>\n",
       "      <td>0</td>\n",
       "      <td>0</td>\n",
       "      <td>0</td>\n",
       "      <td>0</td>\n",
       "      <td>0</td>\n",
       "      <td>0</td>\n",
       "      <td>0</td>\n",
       "      <td>0</td>\n",
       "      <td>0</td>\n",
       "      <td>0</td>\n",
       "      <td>0</td>\n",
       "      <td>0</td>\n",
       "      <td>0</td>\n",
       "      <td>0</td>\n",
       "      <td>0</td>\n",
       "      <td>0</td>\n",
       "      <td>1</td>\n",
       "      <td>0</td>\n",
       "      <td>0</td>\n",
       "      <td>0</td>\n",
       "      <td>0</td>\n",
       "      <td>0</td>\n",
       "      <td>0</td>\n",
       "      <td>0</td>\n",
       "      <td>0</td>\n",
       "      <td>0</td>\n",
       "      <td>0</td>\n",
       "      <td>0</td>\n",
       "      <td>0</td>\n",
       "      <td>0</td>\n",
       "      <td>0</td>\n",
       "      <td>0</td>\n",
       "      <td>...</td>\n",
       "      <td>1</td>\n",
       "      <td>0</td>\n",
       "      <td>0</td>\n",
       "      <td>0</td>\n",
       "      <td>0</td>\n",
       "      <td>0</td>\n",
       "      <td>0</td>\n",
       "      <td>0</td>\n",
       "      <td>0</td>\n",
       "      <td>0</td>\n",
       "      <td>0</td>\n",
       "      <td>0</td>\n",
       "      <td>0</td>\n",
       "      <td>0</td>\n",
       "      <td>0</td>\n",
       "      <td>0</td>\n",
       "      <td>0</td>\n",
       "      <td>0</td>\n",
       "      <td>0</td>\n",
       "      <td>0</td>\n",
       "      <td>0</td>\n",
       "      <td>0</td>\n",
       "      <td>0</td>\n",
       "      <td>0</td>\n",
       "      <td>0</td>\n",
       "      <td>0</td>\n",
       "      <td>0</td>\n",
       "      <td>0</td>\n",
       "      <td>0</td>\n",
       "      <td>0</td>\n",
       "      <td>0</td>\n",
       "      <td>0</td>\n",
       "      <td>0</td>\n",
       "      <td>0</td>\n",
       "      <td>0</td>\n",
       "      <td>0</td>\n",
       "      <td>0</td>\n",
       "      <td>0</td>\n",
       "      <td>0</td>\n",
       "      <td>0</td>\n",
       "      <td>0</td>\n",
       "      <td>0</td>\n",
       "      <td>0</td>\n",
       "      <td>0</td>\n",
       "      <td>0</td>\n",
       "      <td>0</td>\n",
       "      <td>0</td>\n",
       "      <td>0</td>\n",
       "      <td>0</td>\n",
       "      <td>0</td>\n",
       "    </tr>\n",
       "    <tr>\n",
       "      <th>4</th>\n",
       "      <td>8</td>\n",
       "      <td>brigadoon-marin-to-melan</td>\n",
       "      <td>Brigadoon Marin to Melan</td>\n",
       "      <td>8</td>\n",
       "      <td>roriconfan</td>\n",
       "      <td>8</td>\n",
       "      <td>NaN</td>\n",
       "      <td>9.000000</td>\n",
       "      <td>8.000000</td>\n",
       "      <td>34.00000</td>\n",
       "      <td>M</td>\n",
       "      <td>0</td>\n",
       "      <td>0</td>\n",
       "      <td>0</td>\n",
       "      <td>0</td>\n",
       "      <td>0</td>\n",
       "      <td>0</td>\n",
       "      <td>0</td>\n",
       "      <td>0</td>\n",
       "      <td>0</td>\n",
       "      <td>0</td>\n",
       "      <td>0</td>\n",
       "      <td>0</td>\n",
       "      <td>0</td>\n",
       "      <td>0</td>\n",
       "      <td>0</td>\n",
       "      <td>0</td>\n",
       "      <td>0</td>\n",
       "      <td>0</td>\n",
       "      <td>0</td>\n",
       "      <td>0</td>\n",
       "      <td>0</td>\n",
       "      <td>0</td>\n",
       "      <td>0</td>\n",
       "      <td>0</td>\n",
       "      <td>0</td>\n",
       "      <td>0</td>\n",
       "      <td>0</td>\n",
       "      <td>0</td>\n",
       "      <td>0</td>\n",
       "      <td>0</td>\n",
       "      <td>0</td>\n",
       "      <td>0</td>\n",
       "      <td>0</td>\n",
       "      <td>0</td>\n",
       "      <td>0</td>\n",
       "      <td>0</td>\n",
       "      <td>0</td>\n",
       "      <td>0</td>\n",
       "      <td>0</td>\n",
       "      <td>...</td>\n",
       "      <td>0</td>\n",
       "      <td>0</td>\n",
       "      <td>0</td>\n",
       "      <td>0</td>\n",
       "      <td>0</td>\n",
       "      <td>0</td>\n",
       "      <td>0</td>\n",
       "      <td>0</td>\n",
       "      <td>0</td>\n",
       "      <td>0</td>\n",
       "      <td>0</td>\n",
       "      <td>0</td>\n",
       "      <td>0</td>\n",
       "      <td>0</td>\n",
       "      <td>0</td>\n",
       "      <td>0</td>\n",
       "      <td>0</td>\n",
       "      <td>0</td>\n",
       "      <td>0</td>\n",
       "      <td>0</td>\n",
       "      <td>0</td>\n",
       "      <td>0</td>\n",
       "      <td>0</td>\n",
       "      <td>0</td>\n",
       "      <td>0</td>\n",
       "      <td>0</td>\n",
       "      <td>0</td>\n",
       "      <td>0</td>\n",
       "      <td>0</td>\n",
       "      <td>0</td>\n",
       "      <td>0</td>\n",
       "      <td>0</td>\n",
       "      <td>0</td>\n",
       "      <td>0</td>\n",
       "      <td>0</td>\n",
       "      <td>0</td>\n",
       "      <td>0</td>\n",
       "      <td>0</td>\n",
       "      <td>0</td>\n",
       "      <td>0</td>\n",
       "      <td>0</td>\n",
       "      <td>0</td>\n",
       "      <td>0</td>\n",
       "      <td>0</td>\n",
       "      <td>0</td>\n",
       "      <td>0</td>\n",
       "      <td>0</td>\n",
       "      <td>0</td>\n",
       "      <td>0</td>\n",
       "      <td>0</td>\n",
       "    </tr>\n",
       "  </tbody>\n",
       "</table>\n",
       "<p>5 rows × 141 columns</p>\n",
       "</div>"
      ],
      "text/plain": [
       "   animation                                        anime                                   anime_name  character              name  overall                                            reviews     sound     story       age sex  Trains  BoardingHouse  Political  Demons  BasedonaLightNovel  Supernatural  Comedy  BountyHunters  Harem  EmotionalAbuse  Androids  Robots  Mecha  Western  Ninja  Thriller  Adventure  LoveTriangle  Magic  RPG  Violence  Shinigami  Military  Sports  Parody  TimeTravel  \\\n",
       "0         10  to-aru-majutsu-no-index-10th-anniversary-pv  To Aru Majutsu no Index 10th Anniversary PV         10  SogiitaGunhaGUTS       10  Well it's a short animation to celebrate Kamac...  7.620556  6.811945  15.00000   M       0              0          0       0                   0             0       0              0      0               0         0       0      0        0      0         0          0             0      0    0         0          0         0       0       0           0   \n",
       "1          5                                     dokkoida                                   Dokkoida?!          6     angelsreviews        5                                                NaN  5.000000  8.000000  26.00000   F       0              0          0       0                   0             0       1              0      0               0         0       0      0        0      0         0          0             0      0    0         0          0         0       0       0           0   \n",
       "2          9                               inazuma-eleven                               Inazuma Eleven          9        xxjacobxx3        9  first of all: I agree with ﻿﻿﻿﻿luminex's revie...  9.000000  9.000000  25.00000   M       0              0          0       0                   0             0       0              0      0               0         0       0      0        0      0         0          0             0      0    0         0          0         0       1       0           0   \n",
       "3          8                               inazuma-eleven                               Inazuma Eleven          6          Lumineux        7                                           Story: 6  8.000000  6.000000  25.23511   F       0              0          0       0                   0             0       0              0      0               0         0       0      0        0      0         0          0             0      0    0         0          0         0       1       0           0   \n",
       "4          8                     brigadoon-marin-to-melan                     Brigadoon Marin to Melan          8        roriconfan        8                                                NaN  9.000000  8.000000  34.00000   M       0              0          0       0                   0             0       0              0      0               0         0       0      0        0      0         0          0             0      0    0         0          0         0       0       0           0   \n",
       "\n",
       "   Aliens  JapaneseMythology  ReverseHarem  Cyberpunk  Swordplay  ClassicalMusic  Detectives  FeudalJapan  Romance  Terrorism  Tournaments  MagicalGirl  PantyShots  ...    BasedonaVideoGame  Mercenaries  PersoninaStrangeWorld  FoodandBeverage  Vampires  Cyborgs  Incest  Shoujo-ai  MMORPG  LGBTThemes  noitaminA  Abstract  SuddenGirlfriendAppearance  Monster-of-the-week  Mystery  OriginalWork  Police  WorkLife  PsychicPowers  Maids  PlayorDie  Chibi  Dystopia  Psychological  HandtoHandCombat  \\\n",
       "0       0                  0             0          0          0               0           0            0        0          0            0            0           0  ...                    0            0                      0                0         0        0       0          0       0           0          0         0                           0                    0        0             0       0         0              0      0          0      0         0              0                 0   \n",
       "1       1                  0             0          0          0               0           0            0        0          0            0            0           0  ...                    0            0                      0                0         0        0       0          0       0           0          0         0                           0                    0        0             0       0         0              0      0          0      0         0              0                 0   \n",
       "2       0                  0             0          0          0               0           0            0        0          0            0            0           0  ...                    1            0                      0                0         0        0       0          0       0           0          0         0                           0                    0        0             0       0         0              0      0          0      0         0              0                 0   \n",
       "3       0                  0             0          0          0               0           0            0        0          0            0            0           0  ...                    1            0                      0                0         0        0       0          0       0           0          0         0                           0                    0        0             0       0         0              0      0          0      0         0              0                 0   \n",
       "4       0                  0             0          0          0               0           0            0        0          0            0            0           0  ...                    0            0                      0                0         0        0       0          0       0           0          0         0                           0                    0        0             0       0         0              0      0          0      0         0              0                 0   \n",
       "\n",
       "   Crude  Angels  SliceofLife  BasedonaVisualNovel  ExplicitSex  Shorts  Survival  OuterSpace  CGAnimation  Master-ServantRelationship  ExplicitViolence  Assassins  MatureThemes  Josei  MartialArts  America  BasedonanOtomeGame  Gunfights  Samurai  ComingofAge  AnimalAbuse  Fantasy  PhysicalAbuse  SchoolLife  Ecchi  \n",
       "0      0       0            0                    0            0       0         0           0            0                           0                 0          0             0      0            0        0                   0          0        0            0            0        0              0           0      0  \n",
       "1      0       0            0                    0            0       0         0           0            0                           0                 0          0             0      0            0        0                   0          0        0            0            0        0              0           0      0  \n",
       "2      0       0            0                    0            0       0         0           0            0                           0                 0          0             0      0            0        0                   0          0        0            0            0        0              0           0      0  \n",
       "3      0       0            0                    0            0       0         0           0            0                           0                 0          0             0      0            0        0                   0          0        0            0            0        0              0           0      0  \n",
       "4      0       0            0                    0            0       0         0           0            0                           0                 0          0             0      0            0        0                   0          0        0            0            0        0              0           0      0  \n",
       "\n",
       "[5 rows x 141 columns]"
      ]
     },
     "execution_count": 10,
     "metadata": {},
     "output_type": "execute_result"
    }
   ],
   "source": [
    "final.head()"
   ]
  },
  {
   "cell_type": "code",
   "execution_count": 11,
   "metadata": {
    "collapsed": false
   },
   "outputs": [],
   "source": [
    "user_biases = dict()\n",
    "for i,val in final.groupby('name'):\n",
    "    user_biases[i] = np.mean(val.overall)-ybar\n",
    "\n",
    "anime_biases = dict()\n",
    "for i,val in final.groupby('anime'):\n",
    "    anime_biases[i] = np.mean(val.overall)-ybar\n",
    "    \n",
    "sex_biases = dict()\n",
    "for i,val in final.groupby('sex'):\n",
    "    sex_biases[i] = np.mean(val.overall)-ybar"
   ]
  },
  {
   "cell_type": "code",
   "execution_count": 12,
   "metadata": {
    "collapsed": false
   },
   "outputs": [
    {
     "data": {
      "text/plain": [
       "{'F': 0.07394713851523793,\n",
       " 'M': -0.04806124970716308,\n",
       " 'Other': -0.30813219727814545}"
      ]
     },
     "execution_count": 12,
     "metadata": {},
     "output_type": "execute_result"
    }
   ],
   "source": [
    "sex_biases"
   ]
  },
  {
   "cell_type": "code",
   "execution_count": 13,
   "metadata": {
    "collapsed": false
   },
   "outputs": [
    {
     "data": {
      "text/plain": [
       "<matplotlib.legend.Legend at 0x10b27e450>"
      ]
     },
     "execution_count": 13,
     "metadata": {},
     "output_type": "execute_result"
    },
    {
     "data": {
      "image/png": "[encoded data removed]",
      "text/plain": [
       "<matplotlib.figure.Figure at 0x1097b0150>"
      ]
     },
     "metadata": {},
     "output_type": "display_data"
    }
   ],
   "source": [
    "hist1 = plt.hist(user_biases.values(),alpha=0.5,bins=20,label='User')\n",
    "plt.title('User Biases')\n",
    "plt.xlabel(\"Deviation from average\")\n",
    "plt.plot([np.mean(user_biases.values()),np.mean(user_biases.values())],[0,700],label='Mean')\n",
    "plt.plot([np.median(user_biases.values()),np.median(user_biases.values())],[0,700],color='r',label='Median')\n",
    "plt.legend()"
   ]
  },
  {
   "cell_type": "code",
   "execution_count": 14,
   "metadata": {
    "collapsed": false
   },
   "outputs": [
    {
     "data": {
      "text/plain": [
       "<matplotlib.legend.Legend at 0x10d3b8f10>"
      ]
     },
     "execution_count": 14,
     "metadata": {},
     "output_type": "execute_result"
    },
    {
     "data": {
      "image/png": "[encoded data removed]",
      "text/plain": [
       "<matplotlib.figure.Figure at 0x10d004410>"
      ]
     },
     "metadata": {},
     "output_type": "display_data"
    }
   ],
   "source": [
    "hist2 = plt.hist(anime_biases.values(),bins=30,alpha=0.5,label='Anime')\n",
    "plt.title('Item Biases')\n",
    "plt.xlabel(\"Deviation from average\")\n",
    "plt.plot([np.mean(anime_biases.values()),np.mean(anime_biases.values())],[0,300],label='Mean')\n",
    "plt.plot([np.median(anime_biases.values()),np.median(anime_biases.values())],[0,300],color='r',label='Median')\n",
    "plt.legend()"
   ]
  },
  {
   "cell_type": "code",
   "execution_count": 15,
   "metadata": {
    "collapsed": true
   },
   "outputs": [],
   "source": [
    "train_avgs={'mean':ybar, 'users':user_biases, 'animes':anime_biases}\n",
    "predictions={}\n",
    "predictions_valid={}"
   ]
  },
  {
   "cell_type": "code",
   "execution_count": 16,
   "metadata": {
    "collapsed": false
   },
   "outputs": [],
   "source": [
    "# saving user and anime biases in train and validate sets\n",
    "predictions[\"baseline\"] = [ybar+user_biases[i[1][4]]+anime_biases[i[1].anime] for i in test.iterrows()]\n",
    "predictions_valid['baseline'] = [ybar+user_biases[i[1][4]]+anime_biases[i[1].anime] for i in validate.iterrows()]"
   ]
  },
  {
   "cell_type": "code",
   "execution_count": null,
   "metadata": {
    "collapsed": false
   },
   "outputs": [],
   "source": [
    "def get_rmse(s, s_predict):\n",
    "    diff = np.subtract(s,s_predict)\n",
    "    return np.sqrt(np.dot(diff,diff)/diff.shape[0])"
   ]
  },
  {
   "cell_type": "code",
   "execution_count": null,
   "metadata": {
    "collapsed": false
   },
   "outputs": [],
   "source": [
    "def compare_results(stars_actual, stars_predicted, ylow=0, yhigh=10, model=\"\", predicteds=False, onsame=False, axis=False):\n",
    "    \"\"\"\n",
    "    plot predicted results against actual results. Takes 2 arguments: a\n",
    "    numpy array of actual ratings and a numpy array of predicted ratings\n",
    "    scatterplots the predictions, a unit slope line, line segments joining the mean,\n",
    "    and a filled in area of the standard deviations.\"\n",
    "    \"\"\"\n",
    "    if onsame:\n",
    "        ax=onsame\n",
    "    elif axis:\n",
    "        ax=axis\n",
    "    else:\n",
    "        fig=plt.figure()\n",
    "        ax=plt.gca()\n",
    "    df=pd.DataFrame(dict(actual=stars_actual, predicted=stars_predicted))\n",
    "    xp=[]\n",
    "    yp=[]\n",
    "    for k,v in df.groupby('actual'):\n",
    "        xp.append(k)\n",
    "        yp.append(v.predicted.mean())        \n",
    "    \n",
    "    cl, = ax.plot(xp,yp, 's-', label=\"means for %s\" % model)\n",
    "    c=cl.get_color()\n",
    "\n",
    "    sig=df.groupby('actual').predicted.std().values\n",
    "    ax.fill_between(xp, yp - sig, yp + sig, \n",
    "                 color=c, alpha=0.2)\n",
    "    if predicteds:\n",
    "        ax.plot(df.actual, df.predicted, '.', color=c, alpha=0.1, label=\"predicted for %s\" % model)\n",
    "\n",
    "    if not onsame:\n",
    "        ax.plot([0,10],[0,10], 'k', label=\"slope 1\")\n",
    "        ax.set_xlabel(\"actual\")\n",
    "        ax.set_ylabel(\"predicted\")\n",
    "        ax.set_ylim([ylow,yhigh])\n",
    "        ax.set_xlim([0, 10])\n",
    "    ax.legend(frameon=False, loc=\"upper left\")\n",
    "    rmse=get_rmse(stars_actual, stars_predicted)\n",
    "    print \"RMSE for %s\" % model, rmse\n",
    "    return ax,rmse"
   ]
  },
  {
   "cell_type": "code",
   "execution_count": null,
   "metadata": {
    "collapsed": false
   },
   "outputs": [],
   "source": [
    "compare_results(test.overall.tolist(),predictions['baseline'], model=\"baseline\", predicteds=True);"
   ]
  },
  {
   "cell_type": "code",
   "execution_count": null,
   "metadata": {
    "collapsed": false
   },
   "outputs": [],
   "source": [
    "predictions['baseline']"
   ]
  },
  {
   "cell_type": "code",
   "execution_count": null,
   "metadata": {
    "collapsed": true
   },
   "outputs": [],
   "source": []
  }
 ],
 "metadata": {
  "kernelspec": {
   "display_name": "Python 2",
   "language": "python",
   "name": "python2"
  },
  "language_info": {
   "codemirror_mode": {
    "name": "ipython",
    "version": 2
   },
   "file_extension": ".py",
   "mimetype": "text/x-python",
   "name": "python",
   "nbconvert_exporter": "python",
   "pygments_lexer": "ipython2",
   "version": "2.7.10"
  }
 },
 "nbformat": 4,
 "nbformat_minor": 0
}

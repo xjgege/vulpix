{
 "cells": [
  {
   "cell_type": "code",
   "execution_count": 1,
   "metadata": {
    "collapsed": false
   },
   "outputs": [],
   "source": [
    "%matplotlib inline\n",
    "import numpy as np\n",
    "import scipy as sp\n",
    "import matplotlib as mpl\n",
    "import matplotlib.cm as cm\n",
    "import matplotlib.pyplot as plt\n",
    "import pandas as pd\n",
    "pd.set_option('display.width', 500)\n",
    "pd.set_option('display.max_columns', 100)\n",
    "pd.set_option('display.notebook_repr_html', True)\n",
    "import seaborn as sns\n",
    "sns.set_style(\"whitegrid\")\n",
    "sns.set_context(\"poster\")\n",
    "\n",
    "from collections import defaultdict"
   ]
  },
  {
   "cell_type": "code",
   "execution_count": 2,
   "metadata": {
    "collapsed": true
   },
   "outputs": [],
   "source": [
    "import sys\n",
    "reload(sys)\n",
    "sys.setdefaultencoding(\"utf-8\")"
   ]
  },
  {
   "cell_type": "code",
   "execution_count": 103,
   "metadata": {
    "collapsed": false
   },
   "outputs": [],
   "source": [
    "reviews = pd.read_csv('../data/all_reviews.csv',sep='\\t',encoding='utf-8', index_col=0)\n",
    "users = pd.read_csv('../data/all_users.csv',sep='\\t',encoding='utf-8', index_col=0)"
   ]
  },
  {
   "cell_type": "markdown",
   "metadata": {},
   "source": [
    "### Cleaning user information"
   ]
  },
  {
   "cell_type": "code",
   "execution_count": 4,
   "metadata": {
    "collapsed": false
   },
   "outputs": [],
   "source": [
    "for i in users.index:\n",
    "    temp = users.ix[i,'age_sex'].strip().split('/')\n",
    "    age = '?'\n",
    "    sex = '?'\n",
    "    if len(temp)==2:\n",
    "        age = temp[0]\n",
    "        sex = temp[1]\n",
    "    elif temp[0].isdigit():\n",
    "        age = temp[0]\n",
    "    else:\n",
    "        sex = temp[0]\n",
    "    users.ix[i,'age']=age\n",
    "    users.ix[i,'sex']=sex"
   ]
  },
  {
   "cell_type": "code",
   "execution_count": 5,
   "metadata": {
    "collapsed": false
   },
   "outputs": [
    {
     "data": {
      "text/html": [
       "<div>\n",
       "<table border=\"1\" class=\"dataframe\">\n",
       "  <thead>\n",
       "    <tr style=\"text-align: right;\">\n",
       "      <th></th>\n",
       "      <th>age_sex</th>\n",
       "      <th>join</th>\n",
       "      <th>place</th>\n",
       "      <th>age</th>\n",
       "      <th>sex</th>\n",
       "    </tr>\n",
       "  </thead>\n",
       "  <tbody>\n",
       "    <tr>\n",
       "      <th>0Marcandre</th>\n",
       "      <td>20 / M</td>\n",
       "      <td>Joined Mar 31, 2013</td>\n",
       "      <td>NaN</td>\n",
       "      <td>20</td>\n",
       "      <td>M</td>\n",
       "    </tr>\n",
       "    <tr>\n",
       "      <th>11bowman</th>\n",
       "      <td>21 / M</td>\n",
       "      <td>Joined Jun 19, 2010</td>\n",
       "      <td>Amsterdam, Netherlands</td>\n",
       "      <td>21</td>\n",
       "      <td>M</td>\n",
       "    </tr>\n",
       "    <tr>\n",
       "      <th>11sam1234</th>\n",
       "      <td>21 / F</td>\n",
       "      <td>Joined Nov 20, 2008</td>\n",
       "      <td>alto</td>\n",
       "      <td>21</td>\n",
       "      <td>F</td>\n",
       "    </tr>\n",
       "    <tr>\n",
       "      <th>29ActiveDownloads</th>\n",
       "      <td>20 / M</td>\n",
       "      <td>Joined Apr 26, 2011</td>\n",
       "      <td>NaN</td>\n",
       "      <td>20</td>\n",
       "      <td>M</td>\n",
       "    </tr>\n",
       "    <tr>\n",
       "      <th>2minion</th>\n",
       "      <td>20 / F</td>\n",
       "      <td>Joined Aug 2, 2013</td>\n",
       "      <td>NaN</td>\n",
       "      <td>20</td>\n",
       "      <td>F</td>\n",
       "    </tr>\n",
       "  </tbody>\n",
       "</table>\n",
       "</div>"
      ],
      "text/plain": [
       "                   age_sex                 join                   place  age sex\n",
       "0Marcandre         20 / M   Joined Mar 31, 2013                     NaN  20    M\n",
       "11bowman           21 / M   Joined Jun 19, 2010  Amsterdam, Netherlands  21    M\n",
       "11sam1234          21 / F   Joined Nov 20, 2008                    alto  21    F\n",
       "29ActiveDownloads  20 / M   Joined Apr 26, 2011                     NaN  20    M\n",
       "2minion            20 / F    Joined Aug 2, 2013                     NaN  20    F"
      ]
     },
     "execution_count": 5,
     "metadata": {},
     "output_type": "execute_result"
    }
   ],
   "source": [
    "subusers = users.loc[(users.age!='? ')&(users.sex!='?')]\n",
    "print subusers.shape\n",
    "subusers.head()"
   ]
  },
  {
   "cell_type": "markdown",
   "metadata": {},
   "source": [
    "### Combining users with review information"
   ]
  },
  {
   "cell_type": "code",
   "execution_count": 6,
   "metadata": {
    "collapsed": false
   },
   "outputs": [],
   "source": [
    "mask = [ True if i in subusers.index.tolist() else False for i in reviews.name]\n",
    "subreviews = reviews.loc[mask]"
   ]
  },
  {
   "cell_type": "code",
   "execution_count": 7,
   "metadata": {
    "collapsed": false
   },
   "outputs": [
    {
     "data": {
      "text/html": [
       "<div>\n",
       "<table border=\"1\" class=\"dataframe\">\n",
       "  <thead>\n",
       "    <tr style=\"text-align: right;\">\n",
       "      <th></th>\n",
       "      <th>animation</th>\n",
       "      <th>anime</th>\n",
       "      <th>anime_name</th>\n",
       "      <th>character</th>\n",
       "      <th>name</th>\n",
       "      <th>overall</th>\n",
       "      <th>reviews</th>\n",
       "      <th>sound</th>\n",
       "      <th>story</th>\n",
       "      <th>age</th>\n",
       "      <th>sex</th>\n",
       "    </tr>\n",
       "  </thead>\n",
       "  <tbody>\n",
       "    <tr>\n",
       "      <th>0</th>\n",
       "      <td>\\n10/10</td>\n",
       "      <td>to-aru-majutsu-no-index-10th-anniversary-pv</td>\n",
       "      <td>To Aru Majutsu no Index 10th Anniversary PV</td>\n",
       "      <td>\\n10/10</td>\n",
       "      <td>SogiitaGunhaGUTS</td>\n",
       "      <td>\\n10/10</td>\n",
       "      <td>Well it's a short animation to celebrate Kamac...</td>\n",
       "      <td>\\n?/10</td>\n",
       "      <td>\\n?/10</td>\n",
       "      <td>15</td>\n",
       "      <td>M</td>\n",
       "    </tr>\n",
       "    <tr>\n",
       "      <th>1</th>\n",
       "      <td>\\n5/10</td>\n",
       "      <td>dokkoida</td>\n",
       "      <td>Dokkoida?!</td>\n",
       "      <td>\\n6/10</td>\n",
       "      <td>angelsreviews</td>\n",
       "      <td>\\n5/10</td>\n",
       "      <td>NaN</td>\n",
       "      <td>\\n5/10</td>\n",
       "      <td>\\n8/10</td>\n",
       "      <td>26</td>\n",
       "      <td>F</td>\n",
       "    </tr>\n",
       "    <tr>\n",
       "      <th>2</th>\n",
       "      <td>\\n9/10</td>\n",
       "      <td>inazuma-eleven</td>\n",
       "      <td>Inazuma Eleven</td>\n",
       "      <td>\\n9/10</td>\n",
       "      <td>xxjacobxx3</td>\n",
       "      <td>\\n9/10</td>\n",
       "      <td>first of all: I agree with ﻿﻿﻿﻿luminex's revie...</td>\n",
       "      <td>\\n9/10</td>\n",
       "      <td>\\n9/10</td>\n",
       "      <td>25</td>\n",
       "      <td>M</td>\n",
       "    </tr>\n",
       "    <tr>\n",
       "      <th>4</th>\n",
       "      <td>\\n8/10</td>\n",
       "      <td>brigadoon-marin-to-melan</td>\n",
       "      <td>Brigadoon Marin to Melan</td>\n",
       "      <td>\\n8/10</td>\n",
       "      <td>roriconfan</td>\n",
       "      <td>\\n8/10</td>\n",
       "      <td>NaN</td>\n",
       "      <td>\\n9/10</td>\n",
       "      <td>\\n8/10</td>\n",
       "      <td>34</td>\n",
       "      <td>M</td>\n",
       "    </tr>\n",
       "    <tr>\n",
       "      <th>5</th>\n",
       "      <td>\\n7/10</td>\n",
       "      <td>brigadoon-marin-to-melan</td>\n",
       "      <td>Brigadoon Marin to Melan</td>\n",
       "      <td>\\n9/10</td>\n",
       "      <td>KiraRin</td>\n",
       "      <td>\\n8.5/10</td>\n",
       "      <td>NaN</td>\n",
       "      <td>\\n7/10</td>\n",
       "      <td>\\n8/10</td>\n",
       "      <td>33</td>\n",
       "      <td>F</td>\n",
       "    </tr>\n",
       "  </tbody>\n",
       "</table>\n",
       "</div>"
      ],
      "text/plain": [
       "  animation                                        anime                                   anime_name character              name    overall                                            reviews    sound    story  age sex\n",
       "0  \\n10/10   to-aru-majutsu-no-index-10th-anniversary-pv  To Aru Majutsu no Index 10th Anniversary PV  \\n10/10   SogiitaGunhaGUTS   \\n10/10   Well it's a short animation to celebrate Kamac...  \\n?/10   \\n?/10    15   M\n",
       "1   \\n5/10                                      dokkoida                                   Dokkoida?!   \\n6/10      angelsreviews    \\n5/10                                                 NaN  \\n5/10   \\n8/10    26   F\n",
       "2   \\n9/10                                inazuma-eleven                               Inazuma Eleven   \\n9/10         xxjacobxx3    \\n9/10   first of all: I agree with ﻿﻿﻿﻿luminex's revie...  \\n9/10   \\n9/10    25   M\n",
       "4   \\n8/10                      brigadoon-marin-to-melan                     Brigadoon Marin to Melan   \\n8/10         roriconfan    \\n8/10                                                 NaN  \\n9/10   \\n8/10    34   M\n",
       "5   \\n7/10                      brigadoon-marin-to-melan                     Brigadoon Marin to Melan   \\n9/10            KiraRin  \\n8.5/10                                                 NaN  \\n7/10   \\n8/10    33   F"
      ]
     },
     "execution_count": 7,
     "metadata": {},
     "output_type": "execute_result"
    }
   ],
   "source": [
    "age = []\n",
    "sex = []\n",
    "\n",
    "for i in subreviews.index:\n",
    "    age.append(int(subusers.ix[subreviews.ix[i,'name'],'age']))\n",
    "    sex.append(subusers.ix[subreviews.ix[i,'name'],'sex'])\n",
    "    \n",
    "subreviews.loc[:,'age']=age\n",
    "subreviews.loc[:,'sex']=sex\n",
    "\n",
    "subreviews.head()"
   ]
  },
  {
   "cell_type": "code",
   "execution_count": 8,
   "metadata": {
    "collapsed": false
   },
   "outputs": [
    {
     "data": {
      "text/html": [
       "<div>\n",
       "<table border=\"1\" class=\"dataframe\">\n",
       "  <thead>\n",
       "    <tr style=\"text-align: right;\">\n",
       "      <th></th>\n",
       "      <th>age_sex</th>\n",
       "      <th>join</th>\n",
       "      <th>place</th>\n",
       "      <th>age</th>\n",
       "      <th>sex</th>\n",
       "    </tr>\n",
       "  </thead>\n",
       "  <tbody>\n",
       "    <tr>\n",
       "      <th>0Marcandre</th>\n",
       "      <td>20 / M</td>\n",
       "      <td>Joined Mar 31, 2013</td>\n",
       "      <td>NaN</td>\n",
       "      <td>20</td>\n",
       "      <td>M</td>\n",
       "    </tr>\n",
       "    <tr>\n",
       "      <th>11bowman</th>\n",
       "      <td>21 / M</td>\n",
       "      <td>Joined Jun 19, 2010</td>\n",
       "      <td>Amsterdam, Netherlands</td>\n",
       "      <td>21</td>\n",
       "      <td>M</td>\n",
       "    </tr>\n",
       "    <tr>\n",
       "      <th>11sam1234</th>\n",
       "      <td>21 / F</td>\n",
       "      <td>Joined Nov 20, 2008</td>\n",
       "      <td>alto</td>\n",
       "      <td>21</td>\n",
       "      <td>F</td>\n",
       "    </tr>\n",
       "    <tr>\n",
       "      <th>29ActiveDownloads</th>\n",
       "      <td>20 / M</td>\n",
       "      <td>Joined Apr 26, 2011</td>\n",
       "      <td>NaN</td>\n",
       "      <td>20</td>\n",
       "      <td>M</td>\n",
       "    </tr>\n",
       "    <tr>\n",
       "      <th>2minion</th>\n",
       "      <td>20 / F</td>\n",
       "      <td>Joined Aug 2, 2013</td>\n",
       "      <td>NaN</td>\n",
       "      <td>20</td>\n",
       "      <td>F</td>\n",
       "    </tr>\n",
       "  </tbody>\n",
       "</table>\n",
       "</div>"
      ],
      "text/plain": [
       "                   age_sex                 join                   place  age sex\n",
       "0Marcandre         20 / M   Joined Mar 31, 2013                     NaN  20    M\n",
       "11bowman           21 / M   Joined Jun 19, 2010  Amsterdam, Netherlands  21    M\n",
       "11sam1234          21 / F   Joined Nov 20, 2008                    alto  21    F\n",
       "29ActiveDownloads  20 / M   Joined Apr 26, 2011                     NaN  20    M\n",
       "2minion            20 / F    Joined Aug 2, 2013                     NaN  20    F"
      ]
     },
     "execution_count": 8,
     "metadata": {},
     "output_type": "execute_result"
    }
   ],
   "source": [
    "subusers.head()"
   ]
  },
  {
   "cell_type": "code",
   "execution_count": 9,
   "metadata": {
    "collapsed": false
   },
   "outputs": [
    {
     "data": {
      "text/html": [
       "<div>\n",
       "<table border=\"1\" class=\"dataframe\">\n",
       "  <thead>\n",
       "    <tr style=\"text-align: right;\">\n",
       "      <th></th>\n",
       "      <th>animation</th>\n",
       "      <th>anime</th>\n",
       "      <th>anime_name</th>\n",
       "      <th>character</th>\n",
       "      <th>name</th>\n",
       "      <th>overall</th>\n",
       "      <th>reviews</th>\n",
       "      <th>sound</th>\n",
       "      <th>story</th>\n",
       "      <th>age</th>\n",
       "      <th>sex</th>\n",
       "    </tr>\n",
       "  </thead>\n",
       "  <tbody>\n",
       "    <tr>\n",
       "      <th>0</th>\n",
       "      <td>\\n10/10</td>\n",
       "      <td>to-aru-majutsu-no-index-10th-anniversary-pv</td>\n",
       "      <td>To Aru Majutsu no Index 10th Anniversary PV</td>\n",
       "      <td>\\n10/10</td>\n",
       "      <td>SogiitaGunhaGUTS</td>\n",
       "      <td>\\n10/10</td>\n",
       "      <td>Well it's a short animation to celebrate Kamac...</td>\n",
       "      <td>\\n?/10</td>\n",
       "      <td>\\n?/10</td>\n",
       "      <td>15.00000</td>\n",
       "      <td>M</td>\n",
       "    </tr>\n",
       "    <tr>\n",
       "      <th>1</th>\n",
       "      <td>\\n5/10</td>\n",
       "      <td>dokkoida</td>\n",
       "      <td>Dokkoida?!</td>\n",
       "      <td>\\n6/10</td>\n",
       "      <td>angelsreviews</td>\n",
       "      <td>\\n5/10</td>\n",
       "      <td>NaN</td>\n",
       "      <td>\\n5/10</td>\n",
       "      <td>\\n8/10</td>\n",
       "      <td>26.00000</td>\n",
       "      <td>F</td>\n",
       "    </tr>\n",
       "    <tr>\n",
       "      <th>2</th>\n",
       "      <td>\\n9/10</td>\n",
       "      <td>inazuma-eleven</td>\n",
       "      <td>Inazuma Eleven</td>\n",
       "      <td>\\n9/10</td>\n",
       "      <td>xxjacobxx3</td>\n",
       "      <td>\\n9/10</td>\n",
       "      <td>first of all: I agree with ﻿﻿﻿﻿luminex's revie...</td>\n",
       "      <td>\\n9/10</td>\n",
       "      <td>\\n9/10</td>\n",
       "      <td>25.00000</td>\n",
       "      <td>M</td>\n",
       "    </tr>\n",
       "    <tr>\n",
       "      <th>3</th>\n",
       "      <td>\\n8/10</td>\n",
       "      <td>inazuma-eleven</td>\n",
       "      <td>Inazuma Eleven</td>\n",
       "      <td>\\n6/10</td>\n",
       "      <td>Lumineux</td>\n",
       "      <td>\\n7/10</td>\n",
       "      <td>Story: 6</td>\n",
       "      <td>\\n8/10</td>\n",
       "      <td>\\n6/10</td>\n",
       "      <td>25.23511</td>\n",
       "      <td>F</td>\n",
       "    </tr>\n",
       "    <tr>\n",
       "      <th>4</th>\n",
       "      <td>\\n8/10</td>\n",
       "      <td>brigadoon-marin-to-melan</td>\n",
       "      <td>Brigadoon Marin to Melan</td>\n",
       "      <td>\\n8/10</td>\n",
       "      <td>roriconfan</td>\n",
       "      <td>\\n8/10</td>\n",
       "      <td>NaN</td>\n",
       "      <td>\\n9/10</td>\n",
       "      <td>\\n8/10</td>\n",
       "      <td>34.00000</td>\n",
       "      <td>M</td>\n",
       "    </tr>\n",
       "  </tbody>\n",
       "</table>\n",
       "</div>"
      ],
      "text/plain": [
       "  animation                                        anime                                   anime_name character              name   overall                                            reviews    sound    story       age sex\n",
       "0  \\n10/10   to-aru-majutsu-no-index-10th-anniversary-pv  To Aru Majutsu no Index 10th Anniversary PV  \\n10/10   SogiitaGunhaGUTS  \\n10/10   Well it's a short animation to celebrate Kamac...  \\n?/10   \\n?/10   15.00000   M\n",
       "1   \\n5/10                                      dokkoida                                   Dokkoida?!   \\n6/10      angelsreviews   \\n5/10                                                 NaN  \\n5/10   \\n8/10   26.00000   F\n",
       "2   \\n9/10                                inazuma-eleven                               Inazuma Eleven   \\n9/10         xxjacobxx3   \\n9/10   first of all: I agree with ﻿﻿﻿﻿luminex's revie...  \\n9/10   \\n9/10   25.00000   M\n",
       "3   \\n8/10                                inazuma-eleven                               Inazuma Eleven   \\n6/10           Lumineux   \\n7/10                                            Story: 6  \\n8/10   \\n6/10   25.23511   F\n",
       "4   \\n8/10                      brigadoon-marin-to-melan                     Brigadoon Marin to Melan   \\n8/10         roriconfan   \\n8/10                                                 NaN  \\n9/10   \\n8/10   34.00000   M"
      ]
     },
     "execution_count": 9,
     "metadata": {},
     "output_type": "execute_result"
    }
   ],
   "source": [
    "mean_age = subreviews.age.mean()\n",
    "\n",
    "age = []\n",
    "sex = []\n",
    "\n",
    "final = reviews.copy()\n",
    "\n",
    "for i in final.index:\n",
    "    name = final.ix[i,'name']\n",
    "    if name in subusers.index:\n",
    "        age.append(int(subusers.ix[name,'age']))\n",
    "        sex.append(subusers.ix[name,'sex'])\n",
    "    else:\n",
    "        age.append(mean_age)\n",
    "        ran = np.random.random_integers(0,high=1)\n",
    "        if ran==1:\n",
    "            sex.append('M')\n",
    "        else:\n",
    "            sex.append('F')\n",
    "        \n",
    "    \n",
    "final.loc[:,'age']=age\n",
    "final.loc[:,'sex']=sex\n",
    "\n",
    "final.head()"
   ]
  },
  {
   "cell_type": "code",
   "execution_count": 36,
   "metadata": {
    "collapsed": false
   },
   "outputs": [],
   "source": [
    "for i,val in enumerate(final.anime_name):\n",
    "    if val == 'Beyblade: G Revolution':\n",
    "        final.ix[i,'anime_name']='Beyblade G Revolution'\n",
    "    if val == 'Beyblade: V-Force':\n",
    "        final.ix[i,'anime_name']='Beyblade V-Force'\n",
    "    if val == 'Beyblade: The Movie':\n",
    "        final.ix[i,'anime_name']='Beyblade - The Movie'"
   ]
  },
  {
   "cell_type": "markdown",
   "metadata": {},
   "source": [
    "### Adding in more features"
   ]
  },
  {
   "cell_type": "code",
   "execution_count": 10,
   "metadata": {
    "collapsed": false
   },
   "outputs": [
    {
     "data": {
      "text/html": [
       "<div>\n",
       "<table border=\"1\" class=\"dataframe\">\n",
       "  <thead>\n",
       "    <tr style=\"text-align: right;\">\n",
       "      <th></th>\n",
       "      <th>altname</th>\n",
       "      <th>atype</th>\n",
       "      <th>categories</th>\n",
       "      <th>date</th>\n",
       "      <th>date_pub</th>\n",
       "      <th>description</th>\n",
       "      <th>name</th>\n",
       "      <th>rank</th>\n",
       "      <th>rating</th>\n",
       "      <th>related</th>\n",
       "      <th>studio</th>\n",
       "    </tr>\n",
       "  </thead>\n",
       "  <tbody>\n",
       "    <tr>\n",
       "      <th>(Making of) Evangelion: Another Impact</th>\n",
       "      <td>NaN</td>\n",
       "      <td>\\n        Web (1 ep x 6 min)</td>\n",
       "      <td>[Sci Fi, CG Animation, Japan Animator's Exhibi...</td>\n",
       "      <td>NaN</td>\n",
       "      <td>2015</td>\n",
       "      <td>This episode is a making film of #12 \"evangeli...</td>\n",
       "      <td>(Making of) Evangelion: Another Impact</td>\n",
       "      <td>\\n       Rank #5,996</td>\n",
       "      <td>1.743 of 5 from 153 votes</td>\n",
       "      <td>[Neon Genesis Evangelion, Neon Genesis Evangel...</td>\n",
       "      <td>Studio Khara</td>\n",
       "    </tr>\n",
       "    <tr>\n",
       "      <th>+A-Channel</th>\n",
       "      <td>NaN</td>\n",
       "      <td>\\nDVD Special (11 eps x 2 min)</td>\n",
       "      <td>[Comedy, Slice of Life, Based on a Manga]</td>\n",
       "      <td>NaN</td>\n",
       "      <td>2011</td>\n",
       "      <td>There are many untold stories in the lives of ...</td>\n",
       "      <td>+A-Channel</td>\n",
       "      <td>\\n       Rank #2,398</td>\n",
       "      <td>3.334 of 5 from 1,192 votes</td>\n",
       "      <td>[A-Channel, A-Channel + smile]</td>\n",
       "      <td>Studio Gokumi</td>\n",
       "    </tr>\n",
       "    <tr>\n",
       "      <th>.hack//G.U. Returner</th>\n",
       "      <td>NaN</td>\n",
       "      <td>\\nOVA (1 ep)</td>\n",
       "      <td>[MMORPG, RPG, Virtual Reality]</td>\n",
       "      <td>NaN</td>\n",
       "      <td>2007</td>\n",
       "      <td>\"There is something I wish to entrust to you; ...</td>\n",
       "      <td>.hack//G.U. Returner</td>\n",
       "      <td>\\n       Rank #2,504</td>\n",
       "      <td>3.291 of 5 from 2,021 votes</td>\n",
       "      <td>[.hack//SIGN, .hack//LIMINALITY, .hack//Legend...</td>\n",
       "      <td>NaN</td>\n",
       "    </tr>\n",
       "    <tr>\n",
       "      <th>.hack//G.U. Trilogy</th>\n",
       "      <td>NaN</td>\n",
       "      <td>\\nMovie (1 ep x 93 min)</td>\n",
       "      <td>[CG Animation, MMORPG, RPG, Virtual Reality]</td>\n",
       "      <td>NaN</td>\n",
       "      <td>2008</td>\n",
       "      <td>The World is an ordinary online game – or at l...</td>\n",
       "      <td>.hack//G.U. Trilogy</td>\n",
       "      <td>\\n       Rank #1,576</td>\n",
       "      <td>3.671 of 5 from 2,814 votes</td>\n",
       "      <td>[.hack//SIGN, .hack//LIMINALITY, .hack//Legend...</td>\n",
       "      <td>NaN</td>\n",
       "    </tr>\n",
       "    <tr>\n",
       "      <th>.hack//G.U. Trilogy Parody</th>\n",
       "      <td>NaN</td>\n",
       "      <td>\\nDVD Special (1 ep x 6 min)</td>\n",
       "      <td>[Comedy, MMORPG, RPG, Virtual Reality]</td>\n",
       "      <td>NaN</td>\n",
       "      <td>2008</td>\n",
       "      <td>NaN</td>\n",
       "      <td>.hack//G.U. Trilogy Parody</td>\n",
       "      <td>\\n       Rank #3,993</td>\n",
       "      <td>2.691 of 5 from 714 votes</td>\n",
       "      <td>[.hack//SIGN, .hack//LIMINALITY, .hack//Legend...</td>\n",
       "      <td>NaN</td>\n",
       "    </tr>\n",
       "  </tbody>\n",
       "</table>\n",
       "</div>"
      ],
      "text/plain": [
       "                                       altname                             atype                                         categories date  date_pub                                        description                                    name                       rank                       rating                                            related         studio\n",
       "(Making of) Evangelion: Another Impact     NaN  \\n        Web (1 ep x 6 min)      [Sci Fi, CG Animation, Japan Animator's Exhibi...  NaN      2015  This episode is a making film of #12 \"evangeli...  (Making of) Evangelion: Another Impact  \\n       Rank #5,996         1.743 of 5 from 153 votes  [Neon Genesis Evangelion, Neon Genesis Evangel...   Studio Khara\n",
       "+A-Channel                                 NaN   \\nDVD Special (11 eps x 2 min)           [Comedy, Slice of Life, Based on a Manga]  NaN      2011  There are many untold stories in the lives of ...                              +A-Channel  \\n       Rank #2,398       3.334 of 5 from 1,192 votes                     [A-Channel, A-Channel + smile]  Studio Gokumi\n",
       ".hack//G.U. Returner                       NaN                     \\nOVA (1 ep)                      [MMORPG, RPG, Virtual Reality]  NaN      2007  \"There is something I wish to entrust to you; ...                    .hack//G.U. Returner  \\n       Rank #2,504       3.291 of 5 from 2,021 votes  [.hack//SIGN, .hack//LIMINALITY, .hack//Legend...            NaN\n",
       ".hack//G.U. Trilogy                        NaN          \\nMovie (1 ep x 93 min)        [CG Animation, MMORPG, RPG, Virtual Reality]  NaN      2008  The World is an ordinary online game – or at l...                     .hack//G.U. Trilogy  \\n       Rank #1,576       3.671 of 5 from 2,814 votes  [.hack//SIGN, .hack//LIMINALITY, .hack//Legend...            NaN\n",
       ".hack//G.U. Trilogy Parody                 NaN     \\nDVD Special (1 ep x 6 min)              [Comedy, MMORPG, RPG, Virtual Reality]  NaN      2008                                                NaN              .hack//G.U. Trilogy Parody  \\n       Rank #3,993         2.691 of 5 from 714 votes  [.hack//SIGN, .hack//LIMINALITY, .hack//Legend...            NaN"
      ]
     },
     "execution_count": 10,
     "metadata": {},
     "output_type": "execute_result"
    }
   ],
   "source": [
    "data=pd.read_csv(\"../data/anime_info.csv\",sep='\\t', index_col=0)\n",
    "anime_name = pd.read_csv('../data/anime_name.csv',sep='\\t',encoding='utf-8', index_col=0)\n",
    "data.head()"
   ]
  },
  {
   "cell_type": "code",
   "execution_count": null,
   "metadata": {
    "collapsed": true
   },
   "outputs": [],
   "source": [
    "names = []\n",
    "for i in data.index:\n",
    "    names.append(i.encode('ascii', 'ignore'))\n",
    "data.index=names"
   ]
  },
  {
   "cell_type": "code",
   "execution_count": 11,
   "metadata": {
    "collapsed": false
   },
   "outputs": [
    {
     "data": {
      "text/plain": [
       "233"
      ]
     },
     "execution_count": 11,
     "metadata": {},
     "output_type": "execute_result"
    }
   ],
   "source": [
    "# checking how many unique categories\n",
    "genres = data.categories.tolist()\n",
    "\n",
    "temp = []\n",
    "for i in genres:\n",
    "    if type(i)==str:\n",
    "        temp+=i.replace('[','').replace(']','').replace(' ','').split(',')\n",
    "uniq_genres = list(set(temp))\n",
    "len(uniq_genres)"
   ]
  },
  {
   "cell_type": "code",
   "execution_count": 12,
   "metadata": {
    "collapsed": false
   },
   "outputs": [],
   "source": [
    "# changing categories from string to list\n",
    "temp = []\n",
    "genres = data.categories.tolist()\n",
    "for i in genres:\n",
    "    if type(i)==str:\n",
    "        temp.append(i.replace('[','').replace(']','').replace(' ','').split(','))\n",
    "    else:\n",
    "        temp.append([])\n",
    "data.loc[:,'categories_list'] = temp"
   ]
  },
  {
   "cell_type": "code",
   "execution_count": 37,
   "metadata": {
    "collapsed": false
   },
   "outputs": [],
   "source": [
    "# finding categories\n",
    "categories = defaultdict(list)\n",
    "for i in final.anime_name:\n",
    "    cat = data.loc[i.encode('ascii', 'ignore'),'categories_list']\n",
    "    for j in cat:\n",
    "        categories[j].append(1)\n",
    "    for k in uniq_genres:\n",
    "        if k not in cat:\n",
    "            categories[k].append(0)\n",
    "            \n",
    "# add categories to final\n",
    "for i in categories:\n",
    "    final.loc[:,i] = categories[i]"
   ]
  },
  {
   "cell_type": "code",
   "execution_count": 76,
   "metadata": {
    "collapsed": false
   },
   "outputs": [],
   "source": [
    "per = final.shape[0]*0.005\n",
    "print (final.ix[:,11:].sum(axis=0)>per).sum()\n",
    "mask = (final.ix[:,11:].sum(axis=0)>per)"
   ]
  },
  {
   "cell_type": "code",
   "execution_count": 81,
   "metadata": {
    "collapsed": false
   },
   "outputs": [],
   "source": [
    "for i in final.columns[11:]:\n",
    "    check = mask[i]\n",
    "    if not check:\n",
    "        final.drop(i,axis=1,inplace=True)"
   ]
  },
  {
   "cell_type": "code",
   "execution_count": 84,
   "metadata": {
    "collapsed": false
   },
   "outputs": [],
   "source": [
    "final.to_csv('../data/final_review.csv')"
   ]
  },
  {
   "cell_type": "markdown",
   "metadata": {},
   "source": [
    "### Data"
   ]
  },
  {
   "cell_type": "code",
   "execution_count": 102,
   "metadata": {
    "collapsed": false
   },
   "outputs": [
    {
     "ename": "ValueError",
     "evalue": "invalid literal for int() with base 10: '?'",
     "output_type": "error",
     "traceback": [
      "\u001b[0;31m---------------------------------------------------------------------------\u001b[0m",
      "\u001b[0;31mValueError\u001b[0m                                Traceback (most recent call last)",
      "\u001b[0;32m<ipython-input-102-edabeb61dd61>\u001b[0m in \u001b[0;36m<module>\u001b[0;34m()\u001b[0m\n\u001b[1;32m      3\u001b[0m     \u001b[0mtemp\u001b[0m \u001b[0;34m=\u001b[0m \u001b[0;34m[\u001b[0m\u001b[0;34m]\u001b[0m\u001b[0;34m\u001b[0m\u001b[0m\n\u001b[1;32m      4\u001b[0m     \u001b[0;32mfor\u001b[0m \u001b[0mj\u001b[0m \u001b[0;32min\u001b[0m \u001b[0mfinal\u001b[0m\u001b[0;34m.\u001b[0m\u001b[0mloc\u001b[0m\u001b[0;34m[\u001b[0m\u001b[0;34m:\u001b[0m\u001b[0;34m,\u001b[0m\u001b[0mi\u001b[0m\u001b[0;34m]\u001b[0m\u001b[0;34m.\u001b[0m\u001b[0mtolist\u001b[0m\u001b[0;34m(\u001b[0m\u001b[0;34m)\u001b[0m\u001b[0;34m:\u001b[0m\u001b[0;34m\u001b[0m\u001b[0m\n\u001b[0;32m----> 5\u001b[0;31m         \u001b[0mtemp\u001b[0m\u001b[0;34m.\u001b[0m\u001b[0mappend\u001b[0m\u001b[0;34m(\u001b[0m\u001b[0mint\u001b[0m\u001b[0;34m(\u001b[0m\u001b[0mj\u001b[0m\u001b[0;34m[\u001b[0m\u001b[0;36m1\u001b[0m\u001b[0;34m:\u001b[0m\u001b[0;34m]\u001b[0m\u001b[0;34m[\u001b[0m\u001b[0;34m:\u001b[0m\u001b[0;34m-\u001b[0m\u001b[0;36m4\u001b[0m\u001b[0;34m]\u001b[0m\u001b[0;34m)\u001b[0m\u001b[0;34m)\u001b[0m\u001b[0;34m\u001b[0m\u001b[0m\n\u001b[0m",
      "\u001b[0;31mValueError\u001b[0m: invalid literal for int() with base 10: '?'"
     ]
    }
   ],
   "source": [
    "column_names = ['animation','character','overall','sound','sound','story']\n",
    "for i in column_names:\n",
    "    temp = []\n",
    "    for j in final.loc[:,i].tolist():\n",
    "        \n",
    "        temp.append(int(j[1:][:-4]))"
   ]
  },
  {
   "cell_type": "code",
   "execution_count": 101,
   "metadata": {
    "collapsed": false
   },
   "outputs": [
    {
     "data": {
      "text/plain": [
       "10"
      ]
     },
     "execution_count": 101,
     "metadata": {},
     "output_type": "execute_result"
    }
   ],
   "source": [
    "int(temp[0][1:][:-4])"
   ]
  },
  {
   "cell_type": "markdown",
   "metadata": {},
   "source": []
  }
 ],
 "metadata": {
  "kernelspec": {
   "display_name": "Python 2",
   "language": "python",
   "name": "python2"
  },
  "language_info": {
   "codemirror_mode": {
    "name": "ipython",
    "version": 2
   },
   "file_extension": ".py",
   "mimetype": "text/x-python",
   "name": "python",
   "nbconvert_exporter": "python",
   "pygments_lexer": "ipython2",
   "version": "2.7.10"
  }
 },
 "nbformat": 4,
 "nbformat_minor": 0
}
